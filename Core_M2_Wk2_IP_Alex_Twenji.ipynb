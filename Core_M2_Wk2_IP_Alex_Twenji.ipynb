{
  "nbformat": 4,
  "nbformat_minor": 0,
  "metadata": {
    "colab": {
      "name": "Core_M2_Wk2_IP_Alex_Twenji.ipynb",
      "provenance": [],
      "collapsed_sections": []
    },
    "kernelspec": {
      "display_name": "Python 3",
      "name": "python3"
    }
  },
  "cells": [
    {
      "cell_type": "markdown",
      "metadata": {
        "id": "QKLdkTD9KhUa"
      },
      "source": [
        "# DEFINING THE QUESTION"
      ]
    },
    {
      "cell_type": "markdown",
      "metadata": {
        "id": "XCtjjtawK9JF"
      },
      "source": [
        "## a) Specifying the Question\n",
        "\n",
        "As a Data Scientist, you work for Hass Consulting Company which is a real estate leader with over 25 years of experience. You have been tasked to study the factors that affect housing prices using the given information on real estate properties that was collected over the past few months. Later onwards, create a model that would allow the company to accurately predict the sale of prices upon being provided with the predictor variables. \n",
        "\n",
        "---"
      ]
    },
    {
      "cell_type": "markdown",
      "metadata": {
        "id": "6baeqrO3PB7V"
      },
      "source": [
        "## b) Defining the Metric for Success\n",
        "\n",
        "Being able to accurately predict house prices\n",
        "\n",
        "---\n"
      ]
    },
    {
      "cell_type": "markdown",
      "metadata": {
        "id": "2eoVRK35PK9L"
      },
      "source": [
        "## c) Understanding the context\n",
        "\n",
        "Housing Prices differ depending on Location, Property Type and Square Footage of houses among other things. For a Real Estate Company, it would be good to know how to determine which properties do well in a market depending on the factors that affect these prices. This will enable them to price their properties at appropriate prices and could help them know how the value of the properties could appreciate in the future. Consumers would also be able to access this information if they wanted to.\n",
        "\n",
        "---"
      ]
    },
    {
      "cell_type": "markdown",
      "metadata": {
        "id": "U1_ruqvvQdqL"
      },
      "source": [
        "## d) Experimental Design\n",
        "\n",
        "1. Read and explore the given dataset.\n",
        "2. Find and deal with outliers, anomalies, and missing data within the dataset.\n",
        "3. Perform univariate and bivariate analysis recording your observations.\n",
        "4. Perform Exploratory Data Analysis.\n",
        "5. Performing regression analysis.\n",
        "6. Provide a recommendation based on your analysis. \n",
        "7. Challenge your solution by providing insights on how you can make improvements in model improvement.  \n",
        "\n",
        "---"
      ]
    },
    {
      "cell_type": "markdown",
      "metadata": {
        "id": "3vDsYIJiRS6r"
      },
      "source": [
        "# DATA PREPARATION"
      ]
    },
    {
      "cell_type": "code",
      "metadata": {
        "id": "TDu4MdxPKbMi"
      },
      "source": [
        "import pandas as pd\n",
        "import numpy as np\n",
        "import matplotlib.pyplot as plt\n",
        "import seaborn as sns\n",
        "import scipy as sp\n",
        "\n",
        "%matplotlib inline"
      ],
      "execution_count": 1,
      "outputs": []
    },
    {
      "cell_type": "code",
      "metadata": {
        "colab": {
          "base_uri": "https://localhost:8080/",
          "height": 224
        },
        "id": "2wbyMHr9RYm5",
        "outputId": "b3858aed-57cd-4ff2-e618-5e42b7d1bdaa"
      },
      "source": [
        "house = pd.read_csv('/content/Independent Project Week 7 - house_data.csv')\n",
        "house.head()"
      ],
      "execution_count": 2,
      "outputs": [
        {
          "output_type": "execute_result",
          "data": {
            "text/html": [
              "<div>\n",
              "<style scoped>\n",
              "    .dataframe tbody tr th:only-of-type {\n",
              "        vertical-align: middle;\n",
              "    }\n",
              "\n",
              "    .dataframe tbody tr th {\n",
              "        vertical-align: top;\n",
              "    }\n",
              "\n",
              "    .dataframe thead th {\n",
              "        text-align: right;\n",
              "    }\n",
              "</style>\n",
              "<table border=\"1\" class=\"dataframe\">\n",
              "  <thead>\n",
              "    <tr style=\"text-align: right;\">\n",
              "      <th></th>\n",
              "      <th>id</th>\n",
              "      <th>price</th>\n",
              "      <th>bedrooms</th>\n",
              "      <th>bathrooms</th>\n",
              "      <th>sqft_living</th>\n",
              "      <th>sqft_lot</th>\n",
              "      <th>floors</th>\n",
              "      <th>waterfront</th>\n",
              "      <th>view</th>\n",
              "      <th>condition</th>\n",
              "      <th>grade</th>\n",
              "      <th>sqft_above</th>\n",
              "      <th>sqft_basement</th>\n",
              "      <th>yr_built</th>\n",
              "      <th>yr_renovated</th>\n",
              "      <th>zipcode</th>\n",
              "      <th>lat</th>\n",
              "      <th>long</th>\n",
              "      <th>sqft_living15</th>\n",
              "      <th>sqft_lot15</th>\n",
              "    </tr>\n",
              "  </thead>\n",
              "  <tbody>\n",
              "    <tr>\n",
              "      <th>0</th>\n",
              "      <td>7129300520</td>\n",
              "      <td>221900.0</td>\n",
              "      <td>3</td>\n",
              "      <td>1.00</td>\n",
              "      <td>1180</td>\n",
              "      <td>5650</td>\n",
              "      <td>1.0</td>\n",
              "      <td>0</td>\n",
              "      <td>0</td>\n",
              "      <td>3</td>\n",
              "      <td>7</td>\n",
              "      <td>1180</td>\n",
              "      <td>0</td>\n",
              "      <td>1955</td>\n",
              "      <td>0</td>\n",
              "      <td>98178</td>\n",
              "      <td>47.5112</td>\n",
              "      <td>-122.257</td>\n",
              "      <td>1340</td>\n",
              "      <td>5650</td>\n",
              "    </tr>\n",
              "    <tr>\n",
              "      <th>1</th>\n",
              "      <td>6414100192</td>\n",
              "      <td>538000.0</td>\n",
              "      <td>3</td>\n",
              "      <td>2.25</td>\n",
              "      <td>2570</td>\n",
              "      <td>7242</td>\n",
              "      <td>2.0</td>\n",
              "      <td>0</td>\n",
              "      <td>0</td>\n",
              "      <td>3</td>\n",
              "      <td>7</td>\n",
              "      <td>2170</td>\n",
              "      <td>400</td>\n",
              "      <td>1951</td>\n",
              "      <td>1991</td>\n",
              "      <td>98125</td>\n",
              "      <td>47.7210</td>\n",
              "      <td>-122.319</td>\n",
              "      <td>1690</td>\n",
              "      <td>7639</td>\n",
              "    </tr>\n",
              "    <tr>\n",
              "      <th>2</th>\n",
              "      <td>5631500400</td>\n",
              "      <td>180000.0</td>\n",
              "      <td>2</td>\n",
              "      <td>1.00</td>\n",
              "      <td>770</td>\n",
              "      <td>10000</td>\n",
              "      <td>1.0</td>\n",
              "      <td>0</td>\n",
              "      <td>0</td>\n",
              "      <td>3</td>\n",
              "      <td>6</td>\n",
              "      <td>770</td>\n",
              "      <td>0</td>\n",
              "      <td>1933</td>\n",
              "      <td>0</td>\n",
              "      <td>98028</td>\n",
              "      <td>47.7379</td>\n",
              "      <td>-122.233</td>\n",
              "      <td>2720</td>\n",
              "      <td>8062</td>\n",
              "    </tr>\n",
              "    <tr>\n",
              "      <th>3</th>\n",
              "      <td>2487200875</td>\n",
              "      <td>604000.0</td>\n",
              "      <td>4</td>\n",
              "      <td>3.00</td>\n",
              "      <td>1960</td>\n",
              "      <td>5000</td>\n",
              "      <td>1.0</td>\n",
              "      <td>0</td>\n",
              "      <td>0</td>\n",
              "      <td>5</td>\n",
              "      <td>7</td>\n",
              "      <td>1050</td>\n",
              "      <td>910</td>\n",
              "      <td>1965</td>\n",
              "      <td>0</td>\n",
              "      <td>98136</td>\n",
              "      <td>47.5208</td>\n",
              "      <td>-122.393</td>\n",
              "      <td>1360</td>\n",
              "      <td>5000</td>\n",
              "    </tr>\n",
              "    <tr>\n",
              "      <th>4</th>\n",
              "      <td>1954400510</td>\n",
              "      <td>510000.0</td>\n",
              "      <td>3</td>\n",
              "      <td>2.00</td>\n",
              "      <td>1680</td>\n",
              "      <td>8080</td>\n",
              "      <td>1.0</td>\n",
              "      <td>0</td>\n",
              "      <td>0</td>\n",
              "      <td>3</td>\n",
              "      <td>8</td>\n",
              "      <td>1680</td>\n",
              "      <td>0</td>\n",
              "      <td>1987</td>\n",
              "      <td>0</td>\n",
              "      <td>98074</td>\n",
              "      <td>47.6168</td>\n",
              "      <td>-122.045</td>\n",
              "      <td>1800</td>\n",
              "      <td>7503</td>\n",
              "    </tr>\n",
              "  </tbody>\n",
              "</table>\n",
              "</div>"
            ],
            "text/plain": [
              "           id     price  bedrooms  ...     long  sqft_living15  sqft_lot15\n",
              "0  7129300520  221900.0         3  ... -122.257           1340        5650\n",
              "1  6414100192  538000.0         3  ... -122.319           1690        7639\n",
              "2  5631500400  180000.0         2  ... -122.233           2720        8062\n",
              "3  2487200875  604000.0         4  ... -122.393           1360        5000\n",
              "4  1954400510  510000.0         3  ... -122.045           1800        7503\n",
              "\n",
              "[5 rows x 20 columns]"
            ]
          },
          "metadata": {
            "tags": []
          },
          "execution_count": 2
        }
      ]
    },
    {
      "cell_type": "code",
      "metadata": {
        "colab": {
          "base_uri": "https://localhost:8080/"
        },
        "id": "IzbK-CJcUTSf",
        "outputId": "b14d9a9c-b713-454c-fe05-e92f579f0bd3"
      },
      "source": [
        "house.shape"
      ],
      "execution_count": 3,
      "outputs": [
        {
          "output_type": "execute_result",
          "data": {
            "text/plain": [
              "(21613, 20)"
            ]
          },
          "metadata": {
            "tags": []
          },
          "execution_count": 3
        }
      ]
    },
    {
      "cell_type": "code",
      "metadata": {
        "colab": {
          "base_uri": "https://localhost:8080/"
        },
        "id": "sSJUFTloUXOf",
        "outputId": "623f4c69-7200-4699-f546-af30a880741d"
      },
      "source": [
        "house.info()"
      ],
      "execution_count": 4,
      "outputs": [
        {
          "output_type": "stream",
          "text": [
            "<class 'pandas.core.frame.DataFrame'>\n",
            "RangeIndex: 21613 entries, 0 to 21612\n",
            "Data columns (total 20 columns):\n",
            " #   Column         Non-Null Count  Dtype  \n",
            "---  ------         --------------  -----  \n",
            " 0   id             21613 non-null  int64  \n",
            " 1   price          21613 non-null  float64\n",
            " 2   bedrooms       21613 non-null  int64  \n",
            " 3   bathrooms      21613 non-null  float64\n",
            " 4   sqft_living    21613 non-null  int64  \n",
            " 5   sqft_lot       21613 non-null  int64  \n",
            " 6   floors         21613 non-null  float64\n",
            " 7   waterfront     21613 non-null  int64  \n",
            " 8   view           21613 non-null  int64  \n",
            " 9   condition      21613 non-null  int64  \n",
            " 10  grade          21613 non-null  int64  \n",
            " 11  sqft_above     21613 non-null  int64  \n",
            " 12  sqft_basement  21613 non-null  int64  \n",
            " 13  yr_built       21613 non-null  int64  \n",
            " 14  yr_renovated   21613 non-null  int64  \n",
            " 15  zipcode        21613 non-null  int64  \n",
            " 16  lat            21613 non-null  float64\n",
            " 17  long           21613 non-null  float64\n",
            " 18  sqft_living15  21613 non-null  int64  \n",
            " 19  sqft_lot15     21613 non-null  int64  \n",
            "dtypes: float64(5), int64(15)\n",
            "memory usage: 3.3 MB\n"
          ],
          "name": "stdout"
        }
      ]
    },
    {
      "cell_type": "markdown",
      "metadata": {
        "id": "p96cVGb7UzS3"
      },
      "source": [
        "From the information given in the IP documentation, the column name definitions are:\n",
        "\n",
        "Id \n",
        "\n",
        "price  - Price of the house\n",
        "\n",
        "bedrooms - Number of Bedrooms\n",
        "\n",
        "bathrooms - Number of Bathrooms\n",
        "\n",
        "sqft_living - Square feet area of living area\n",
        "\n",
        "sqft_lot  - Square feet area of parking Layout\n",
        "\n",
        "floors - Number of Floors\n",
        "\n",
        "waterfront - Whether waterfront is there or not\n",
        "\n",
        "view - Number of Views\n",
        "\n",
        "grade - Grades\n",
        "\n",
        "sqft_above\n",
        "\n",
        "sqft_basement - Square feet area of basement\n",
        "\n",
        "yr_built - Year the house is built\n",
        "\n",
        "yr_renovated - Year the house is renovated\n",
        "\n",
        "zipcode - zipcode of the house\n",
        "\n",
        "lat : Latitude of the house\n",
        "\n",
        "lon : Longitude of the house\n",
        "\n",
        "sqft_living15\n",
        "\n",
        "sqft_lot15"
      ]
    },
    {
      "cell_type": "markdown",
      "metadata": {
        "id": "FmTaU-jzUncy"
      },
      "source": [
        "# DATA CLEANING"
      ]
    },
    {
      "cell_type": "code",
      "metadata": {
        "colab": {
          "base_uri": "https://localhost:8080/",
          "height": 224
        },
        "id": "-aBc34PDUgY0",
        "outputId": "d09b349a-4225-4083-c736-e764707a08e0"
      },
      "source": [
        "house.head()"
      ],
      "execution_count": 5,
      "outputs": [
        {
          "output_type": "execute_result",
          "data": {
            "text/html": [
              "<div>\n",
              "<style scoped>\n",
              "    .dataframe tbody tr th:only-of-type {\n",
              "        vertical-align: middle;\n",
              "    }\n",
              "\n",
              "    .dataframe tbody tr th {\n",
              "        vertical-align: top;\n",
              "    }\n",
              "\n",
              "    .dataframe thead th {\n",
              "        text-align: right;\n",
              "    }\n",
              "</style>\n",
              "<table border=\"1\" class=\"dataframe\">\n",
              "  <thead>\n",
              "    <tr style=\"text-align: right;\">\n",
              "      <th></th>\n",
              "      <th>id</th>\n",
              "      <th>price</th>\n",
              "      <th>bedrooms</th>\n",
              "      <th>bathrooms</th>\n",
              "      <th>sqft_living</th>\n",
              "      <th>sqft_lot</th>\n",
              "      <th>floors</th>\n",
              "      <th>waterfront</th>\n",
              "      <th>view</th>\n",
              "      <th>condition</th>\n",
              "      <th>grade</th>\n",
              "      <th>sqft_above</th>\n",
              "      <th>sqft_basement</th>\n",
              "      <th>yr_built</th>\n",
              "      <th>yr_renovated</th>\n",
              "      <th>zipcode</th>\n",
              "      <th>lat</th>\n",
              "      <th>long</th>\n",
              "      <th>sqft_living15</th>\n",
              "      <th>sqft_lot15</th>\n",
              "    </tr>\n",
              "  </thead>\n",
              "  <tbody>\n",
              "    <tr>\n",
              "      <th>0</th>\n",
              "      <td>7129300520</td>\n",
              "      <td>221900.0</td>\n",
              "      <td>3</td>\n",
              "      <td>1.00</td>\n",
              "      <td>1180</td>\n",
              "      <td>5650</td>\n",
              "      <td>1.0</td>\n",
              "      <td>0</td>\n",
              "      <td>0</td>\n",
              "      <td>3</td>\n",
              "      <td>7</td>\n",
              "      <td>1180</td>\n",
              "      <td>0</td>\n",
              "      <td>1955</td>\n",
              "      <td>0</td>\n",
              "      <td>98178</td>\n",
              "      <td>47.5112</td>\n",
              "      <td>-122.257</td>\n",
              "      <td>1340</td>\n",
              "      <td>5650</td>\n",
              "    </tr>\n",
              "    <tr>\n",
              "      <th>1</th>\n",
              "      <td>6414100192</td>\n",
              "      <td>538000.0</td>\n",
              "      <td>3</td>\n",
              "      <td>2.25</td>\n",
              "      <td>2570</td>\n",
              "      <td>7242</td>\n",
              "      <td>2.0</td>\n",
              "      <td>0</td>\n",
              "      <td>0</td>\n",
              "      <td>3</td>\n",
              "      <td>7</td>\n",
              "      <td>2170</td>\n",
              "      <td>400</td>\n",
              "      <td>1951</td>\n",
              "      <td>1991</td>\n",
              "      <td>98125</td>\n",
              "      <td>47.7210</td>\n",
              "      <td>-122.319</td>\n",
              "      <td>1690</td>\n",
              "      <td>7639</td>\n",
              "    </tr>\n",
              "    <tr>\n",
              "      <th>2</th>\n",
              "      <td>5631500400</td>\n",
              "      <td>180000.0</td>\n",
              "      <td>2</td>\n",
              "      <td>1.00</td>\n",
              "      <td>770</td>\n",
              "      <td>10000</td>\n",
              "      <td>1.0</td>\n",
              "      <td>0</td>\n",
              "      <td>0</td>\n",
              "      <td>3</td>\n",
              "      <td>6</td>\n",
              "      <td>770</td>\n",
              "      <td>0</td>\n",
              "      <td>1933</td>\n",
              "      <td>0</td>\n",
              "      <td>98028</td>\n",
              "      <td>47.7379</td>\n",
              "      <td>-122.233</td>\n",
              "      <td>2720</td>\n",
              "      <td>8062</td>\n",
              "    </tr>\n",
              "    <tr>\n",
              "      <th>3</th>\n",
              "      <td>2487200875</td>\n",
              "      <td>604000.0</td>\n",
              "      <td>4</td>\n",
              "      <td>3.00</td>\n",
              "      <td>1960</td>\n",
              "      <td>5000</td>\n",
              "      <td>1.0</td>\n",
              "      <td>0</td>\n",
              "      <td>0</td>\n",
              "      <td>5</td>\n",
              "      <td>7</td>\n",
              "      <td>1050</td>\n",
              "      <td>910</td>\n",
              "      <td>1965</td>\n",
              "      <td>0</td>\n",
              "      <td>98136</td>\n",
              "      <td>47.5208</td>\n",
              "      <td>-122.393</td>\n",
              "      <td>1360</td>\n",
              "      <td>5000</td>\n",
              "    </tr>\n",
              "    <tr>\n",
              "      <th>4</th>\n",
              "      <td>1954400510</td>\n",
              "      <td>510000.0</td>\n",
              "      <td>3</td>\n",
              "      <td>2.00</td>\n",
              "      <td>1680</td>\n",
              "      <td>8080</td>\n",
              "      <td>1.0</td>\n",
              "      <td>0</td>\n",
              "      <td>0</td>\n",
              "      <td>3</td>\n",
              "      <td>8</td>\n",
              "      <td>1680</td>\n",
              "      <td>0</td>\n",
              "      <td>1987</td>\n",
              "      <td>0</td>\n",
              "      <td>98074</td>\n",
              "      <td>47.6168</td>\n",
              "      <td>-122.045</td>\n",
              "      <td>1800</td>\n",
              "      <td>7503</td>\n",
              "    </tr>\n",
              "  </tbody>\n",
              "</table>\n",
              "</div>"
            ],
            "text/plain": [
              "           id     price  bedrooms  ...     long  sqft_living15  sqft_lot15\n",
              "0  7129300520  221900.0         3  ... -122.257           1340        5650\n",
              "1  6414100192  538000.0         3  ... -122.319           1690        7639\n",
              "2  5631500400  180000.0         2  ... -122.233           2720        8062\n",
              "3  2487200875  604000.0         4  ... -122.393           1360        5000\n",
              "4  1954400510  510000.0         3  ... -122.045           1800        7503\n",
              "\n",
              "[5 rows x 20 columns]"
            ]
          },
          "metadata": {
            "tags": []
          },
          "execution_count": 5
        }
      ]
    },
    {
      "cell_type": "code",
      "metadata": {
        "colab": {
          "base_uri": "https://localhost:8080/"
        },
        "id": "QYV4In8ZVk3Q",
        "outputId": "e6077b27-61db-4c24-9cef-bd68ff8bf2a7"
      },
      "source": [
        "house.isna().sum()"
      ],
      "execution_count": 6,
      "outputs": [
        {
          "output_type": "execute_result",
          "data": {
            "text/plain": [
              "id               0\n",
              "price            0\n",
              "bedrooms         0\n",
              "bathrooms        0\n",
              "sqft_living      0\n",
              "sqft_lot         0\n",
              "floors           0\n",
              "waterfront       0\n",
              "view             0\n",
              "condition        0\n",
              "grade            0\n",
              "sqft_above       0\n",
              "sqft_basement    0\n",
              "yr_built         0\n",
              "yr_renovated     0\n",
              "zipcode          0\n",
              "lat              0\n",
              "long             0\n",
              "sqft_living15    0\n",
              "sqft_lot15       0\n",
              "dtype: int64"
            ]
          },
          "metadata": {
            "tags": []
          },
          "execution_count": 6
        }
      ]
    },
    {
      "cell_type": "code",
      "metadata": {
        "colab": {
          "base_uri": "https://localhost:8080/"
        },
        "id": "nHJRvcUBXlDP",
        "outputId": "6c351e67-be53-479e-9144-6792ce0e83b9"
      },
      "source": [
        "house.duplicated().sum()"
      ],
      "execution_count": 7,
      "outputs": [
        {
          "output_type": "execute_result",
          "data": {
            "text/plain": [
              "3"
            ]
          },
          "metadata": {
            "tags": []
          },
          "execution_count": 7
        }
      ]
    },
    {
      "cell_type": "code",
      "metadata": {
        "colab": {
          "base_uri": "https://localhost:8080/",
          "height": 162
        },
        "id": "CwIvB_Z5XwQ6",
        "outputId": "bf74ba88-f4d2-45a4-a16f-bed74579dc72"
      },
      "source": [
        "house[house.duplicated()]\n",
        "\n",
        "# The records look ok, rather than duplicated records. We'll keep all of them."
      ],
      "execution_count": 8,
      "outputs": [
        {
          "output_type": "execute_result",
          "data": {
            "text/html": [
              "<div>\n",
              "<style scoped>\n",
              "    .dataframe tbody tr th:only-of-type {\n",
              "        vertical-align: middle;\n",
              "    }\n",
              "\n",
              "    .dataframe tbody tr th {\n",
              "        vertical-align: top;\n",
              "    }\n",
              "\n",
              "    .dataframe thead th {\n",
              "        text-align: right;\n",
              "    }\n",
              "</style>\n",
              "<table border=\"1\" class=\"dataframe\">\n",
              "  <thead>\n",
              "    <tr style=\"text-align: right;\">\n",
              "      <th></th>\n",
              "      <th>id</th>\n",
              "      <th>price</th>\n",
              "      <th>bedrooms</th>\n",
              "      <th>bathrooms</th>\n",
              "      <th>sqft_living</th>\n",
              "      <th>sqft_lot</th>\n",
              "      <th>floors</th>\n",
              "      <th>waterfront</th>\n",
              "      <th>view</th>\n",
              "      <th>condition</th>\n",
              "      <th>grade</th>\n",
              "      <th>sqft_above</th>\n",
              "      <th>sqft_basement</th>\n",
              "      <th>yr_built</th>\n",
              "      <th>yr_renovated</th>\n",
              "      <th>zipcode</th>\n",
              "      <th>lat</th>\n",
              "      <th>long</th>\n",
              "      <th>sqft_living15</th>\n",
              "      <th>sqft_lot15</th>\n",
              "    </tr>\n",
              "  </thead>\n",
              "  <tbody>\n",
              "    <tr>\n",
              "      <th>3951</th>\n",
              "      <td>1825069031</td>\n",
              "      <td>550000.0</td>\n",
              "      <td>4</td>\n",
              "      <td>1.75</td>\n",
              "      <td>2410</td>\n",
              "      <td>8447</td>\n",
              "      <td>2.0</td>\n",
              "      <td>0</td>\n",
              "      <td>3</td>\n",
              "      <td>4</td>\n",
              "      <td>8</td>\n",
              "      <td>2060</td>\n",
              "      <td>350</td>\n",
              "      <td>1936</td>\n",
              "      <td>1980</td>\n",
              "      <td>98074</td>\n",
              "      <td>47.6499</td>\n",
              "      <td>-122.088</td>\n",
              "      <td>2520</td>\n",
              "      <td>14789</td>\n",
              "    </tr>\n",
              "    <tr>\n",
              "      <th>14983</th>\n",
              "      <td>6308000010</td>\n",
              "      <td>585000.0</td>\n",
              "      <td>3</td>\n",
              "      <td>2.50</td>\n",
              "      <td>2290</td>\n",
              "      <td>5089</td>\n",
              "      <td>2.0</td>\n",
              "      <td>0</td>\n",
              "      <td>0</td>\n",
              "      <td>3</td>\n",
              "      <td>9</td>\n",
              "      <td>2290</td>\n",
              "      <td>0</td>\n",
              "      <td>2001</td>\n",
              "      <td>0</td>\n",
              "      <td>98006</td>\n",
              "      <td>47.5443</td>\n",
              "      <td>-122.172</td>\n",
              "      <td>2290</td>\n",
              "      <td>7984</td>\n",
              "    </tr>\n",
              "    <tr>\n",
              "      <th>20054</th>\n",
              "      <td>8648900110</td>\n",
              "      <td>555000.0</td>\n",
              "      <td>3</td>\n",
              "      <td>2.50</td>\n",
              "      <td>1940</td>\n",
              "      <td>3211</td>\n",
              "      <td>2.0</td>\n",
              "      <td>0</td>\n",
              "      <td>0</td>\n",
              "      <td>3</td>\n",
              "      <td>8</td>\n",
              "      <td>1940</td>\n",
              "      <td>0</td>\n",
              "      <td>2009</td>\n",
              "      <td>0</td>\n",
              "      <td>98027</td>\n",
              "      <td>47.5644</td>\n",
              "      <td>-122.093</td>\n",
              "      <td>1880</td>\n",
              "      <td>3078</td>\n",
              "    </tr>\n",
              "  </tbody>\n",
              "</table>\n",
              "</div>"
            ],
            "text/plain": [
              "               id     price  bedrooms  ...     long  sqft_living15  sqft_lot15\n",
              "3951   1825069031  550000.0         4  ... -122.088           2520       14789\n",
              "14983  6308000010  585000.0         3  ... -122.172           2290        7984\n",
              "20054  8648900110  555000.0         3  ... -122.093           1880        3078\n",
              "\n",
              "[3 rows x 20 columns]"
            ]
          },
          "metadata": {
            "tags": []
          },
          "execution_count": 8
        }
      ]
    },
    {
      "cell_type": "code",
      "metadata": {
        "id": "3_hsvguztm78"
      },
      "source": [
        "house.drop(columns = ['id'], inplace = True)"
      ],
      "execution_count": 9,
      "outputs": []
    },
    {
      "cell_type": "code",
      "metadata": {
        "colab": {
          "base_uri": "https://localhost:8080/",
          "height": 224
        },
        "id": "g7bLV8U3tzWs",
        "outputId": "6b67d077-1f3b-4796-bd2c-10d970681b21"
      },
      "source": [
        "house.head()"
      ],
      "execution_count": 10,
      "outputs": [
        {
          "output_type": "execute_result",
          "data": {
            "text/html": [
              "<div>\n",
              "<style scoped>\n",
              "    .dataframe tbody tr th:only-of-type {\n",
              "        vertical-align: middle;\n",
              "    }\n",
              "\n",
              "    .dataframe tbody tr th {\n",
              "        vertical-align: top;\n",
              "    }\n",
              "\n",
              "    .dataframe thead th {\n",
              "        text-align: right;\n",
              "    }\n",
              "</style>\n",
              "<table border=\"1\" class=\"dataframe\">\n",
              "  <thead>\n",
              "    <tr style=\"text-align: right;\">\n",
              "      <th></th>\n",
              "      <th>price</th>\n",
              "      <th>bedrooms</th>\n",
              "      <th>bathrooms</th>\n",
              "      <th>sqft_living</th>\n",
              "      <th>sqft_lot</th>\n",
              "      <th>floors</th>\n",
              "      <th>waterfront</th>\n",
              "      <th>view</th>\n",
              "      <th>condition</th>\n",
              "      <th>grade</th>\n",
              "      <th>sqft_above</th>\n",
              "      <th>sqft_basement</th>\n",
              "      <th>yr_built</th>\n",
              "      <th>yr_renovated</th>\n",
              "      <th>zipcode</th>\n",
              "      <th>lat</th>\n",
              "      <th>long</th>\n",
              "      <th>sqft_living15</th>\n",
              "      <th>sqft_lot15</th>\n",
              "    </tr>\n",
              "  </thead>\n",
              "  <tbody>\n",
              "    <tr>\n",
              "      <th>0</th>\n",
              "      <td>221900.0</td>\n",
              "      <td>3</td>\n",
              "      <td>1.00</td>\n",
              "      <td>1180</td>\n",
              "      <td>5650</td>\n",
              "      <td>1.0</td>\n",
              "      <td>0</td>\n",
              "      <td>0</td>\n",
              "      <td>3</td>\n",
              "      <td>7</td>\n",
              "      <td>1180</td>\n",
              "      <td>0</td>\n",
              "      <td>1955</td>\n",
              "      <td>0</td>\n",
              "      <td>98178</td>\n",
              "      <td>47.5112</td>\n",
              "      <td>-122.257</td>\n",
              "      <td>1340</td>\n",
              "      <td>5650</td>\n",
              "    </tr>\n",
              "    <tr>\n",
              "      <th>1</th>\n",
              "      <td>538000.0</td>\n",
              "      <td>3</td>\n",
              "      <td>2.25</td>\n",
              "      <td>2570</td>\n",
              "      <td>7242</td>\n",
              "      <td>2.0</td>\n",
              "      <td>0</td>\n",
              "      <td>0</td>\n",
              "      <td>3</td>\n",
              "      <td>7</td>\n",
              "      <td>2170</td>\n",
              "      <td>400</td>\n",
              "      <td>1951</td>\n",
              "      <td>1991</td>\n",
              "      <td>98125</td>\n",
              "      <td>47.7210</td>\n",
              "      <td>-122.319</td>\n",
              "      <td>1690</td>\n",
              "      <td>7639</td>\n",
              "    </tr>\n",
              "    <tr>\n",
              "      <th>2</th>\n",
              "      <td>180000.0</td>\n",
              "      <td>2</td>\n",
              "      <td>1.00</td>\n",
              "      <td>770</td>\n",
              "      <td>10000</td>\n",
              "      <td>1.0</td>\n",
              "      <td>0</td>\n",
              "      <td>0</td>\n",
              "      <td>3</td>\n",
              "      <td>6</td>\n",
              "      <td>770</td>\n",
              "      <td>0</td>\n",
              "      <td>1933</td>\n",
              "      <td>0</td>\n",
              "      <td>98028</td>\n",
              "      <td>47.7379</td>\n",
              "      <td>-122.233</td>\n",
              "      <td>2720</td>\n",
              "      <td>8062</td>\n",
              "    </tr>\n",
              "    <tr>\n",
              "      <th>3</th>\n",
              "      <td>604000.0</td>\n",
              "      <td>4</td>\n",
              "      <td>3.00</td>\n",
              "      <td>1960</td>\n",
              "      <td>5000</td>\n",
              "      <td>1.0</td>\n",
              "      <td>0</td>\n",
              "      <td>0</td>\n",
              "      <td>5</td>\n",
              "      <td>7</td>\n",
              "      <td>1050</td>\n",
              "      <td>910</td>\n",
              "      <td>1965</td>\n",
              "      <td>0</td>\n",
              "      <td>98136</td>\n",
              "      <td>47.5208</td>\n",
              "      <td>-122.393</td>\n",
              "      <td>1360</td>\n",
              "      <td>5000</td>\n",
              "    </tr>\n",
              "    <tr>\n",
              "      <th>4</th>\n",
              "      <td>510000.0</td>\n",
              "      <td>3</td>\n",
              "      <td>2.00</td>\n",
              "      <td>1680</td>\n",
              "      <td>8080</td>\n",
              "      <td>1.0</td>\n",
              "      <td>0</td>\n",
              "      <td>0</td>\n",
              "      <td>3</td>\n",
              "      <td>8</td>\n",
              "      <td>1680</td>\n",
              "      <td>0</td>\n",
              "      <td>1987</td>\n",
              "      <td>0</td>\n",
              "      <td>98074</td>\n",
              "      <td>47.6168</td>\n",
              "      <td>-122.045</td>\n",
              "      <td>1800</td>\n",
              "      <td>7503</td>\n",
              "    </tr>\n",
              "  </tbody>\n",
              "</table>\n",
              "</div>"
            ],
            "text/plain": [
              "      price  bedrooms  bathrooms  ...     long  sqft_living15  sqft_lot15\n",
              "0  221900.0         3       1.00  ... -122.257           1340        5650\n",
              "1  538000.0         3       2.25  ... -122.319           1690        7639\n",
              "2  180000.0         2       1.00  ... -122.233           2720        8062\n",
              "3  604000.0         4       3.00  ... -122.393           1360        5000\n",
              "4  510000.0         3       2.00  ... -122.045           1800        7503\n",
              "\n",
              "[5 rows x 19 columns]"
            ]
          },
          "metadata": {
            "tags": []
          },
          "execution_count": 10
        }
      ]
    },
    {
      "cell_type": "markdown",
      "metadata": {
        "id": "asNFZcUsYlFF"
      },
      "source": [
        "The Dataset is relatively clean, we've drop the ID column for the following sections."
      ]
    },
    {
      "cell_type": "markdown",
      "metadata": {
        "id": "eL1N8W4OYiEz"
      },
      "source": [
        "# DATA ANALYSIS"
      ]
    },
    {
      "cell_type": "markdown",
      "metadata": {
        "id": "aIeaRG54YvMq"
      },
      "source": [
        "## UNIVARIATE ANALYSIS"
      ]
    },
    {
      "cell_type": "code",
      "metadata": {
        "colab": {
          "base_uri": "https://localhost:8080/"
        },
        "id": "b2rQwPFyX1CJ",
        "outputId": "ac93811e-3c55-471f-864f-f2e2cfd22b5e"
      },
      "source": [
        "house.info()"
      ],
      "execution_count": 11,
      "outputs": [
        {
          "output_type": "stream",
          "text": [
            "<class 'pandas.core.frame.DataFrame'>\n",
            "RangeIndex: 21613 entries, 0 to 21612\n",
            "Data columns (total 19 columns):\n",
            " #   Column         Non-Null Count  Dtype  \n",
            "---  ------         --------------  -----  \n",
            " 0   price          21613 non-null  float64\n",
            " 1   bedrooms       21613 non-null  int64  \n",
            " 2   bathrooms      21613 non-null  float64\n",
            " 3   sqft_living    21613 non-null  int64  \n",
            " 4   sqft_lot       21613 non-null  int64  \n",
            " 5   floors         21613 non-null  float64\n",
            " 6   waterfront     21613 non-null  int64  \n",
            " 7   view           21613 non-null  int64  \n",
            " 8   condition      21613 non-null  int64  \n",
            " 9   grade          21613 non-null  int64  \n",
            " 10  sqft_above     21613 non-null  int64  \n",
            " 11  sqft_basement  21613 non-null  int64  \n",
            " 12  yr_built       21613 non-null  int64  \n",
            " 13  yr_renovated   21613 non-null  int64  \n",
            " 14  zipcode        21613 non-null  int64  \n",
            " 15  lat            21613 non-null  float64\n",
            " 16  long           21613 non-null  float64\n",
            " 17  sqft_living15  21613 non-null  int64  \n",
            " 18  sqft_lot15     21613 non-null  int64  \n",
            "dtypes: float64(5), int64(14)\n",
            "memory usage: 3.1 MB\n"
          ],
          "name": "stdout"
        }
      ]
    },
    {
      "cell_type": "code",
      "metadata": {
        "colab": {
          "base_uri": "https://localhost:8080/",
          "height": 1000
        },
        "id": "NLDU9jbbe2Nu",
        "outputId": "6e6a1254-9001-4fcb-ec6b-176cc97b0ec7"
      },
      "source": [
        "col_names = ['price','bedrooms', 'bathrooms', 'sqft_living','sqft_lot']\n",
        "\n",
        "fig, ax = plt.subplots(len(col_names), figsize= (8,40))\n",
        "\n",
        "for i, col_val in enumerate(col_names):\n",
        "  sns.boxplot(y = house[col_val], ax= ax[i])\n",
        "  ax[i].set_title('Box plot - {}'.format(col_val), fontsize= 10)\n",
        "  ax[i].set_xlabel(col_val, fontsize= 8)\n",
        "plt.show()\n"
      ],
      "execution_count": 12,
      "outputs": [
        {
          "output_type": "display_data",
          "data": {
            "image/png": "[encoded data removed]",
            "text/plain": [
              "<Figure size 576x2880 with 5 Axes>"
            ]
          },
          "metadata": {
            "tags": [],
            "needs_background": "light"
          }
        }
      ]
    },
    {
      "cell_type": "code",
      "metadata": {
        "colab": {
          "base_uri": "https://localhost:8080/",
          "height": 1000
        },
        "id": "A6oWoWalfaN_",
        "outputId": "e8fd7ff2-4cb6-4b05-a378-d90610cf1d24"
      },
      "source": [
        "col_names = ['floors','waterfront', 'view', 'condition','grade']\n",
        "\n",
        "fig, ax = plt.subplots(len(col_names), figsize= (8,40))\n",
        "\n",
        "for i, col_val in enumerate(col_names):\n",
        "  sns.boxplot(y = house[col_val], ax= ax[i])\n",
        "  ax[i].set_title('Box plot - {}'.format(col_val), fontsize= 10)\n",
        "  ax[i].set_xlabel(col_val, fontsize= 8)\n",
        "plt.show()"
      ],
      "execution_count": 13,
      "outputs": [
        {
          "output_type": "display_data",
          "data": {
            "image/png": "[encoded data removed]",
            "text/plain": [
              "<Figure size 576x2880 with 5 Axes>"
            ]
          },
          "metadata": {
            "tags": [],
            "needs_background": "light"
          }
        }
      ]
    },
    {
      "cell_type": "code",
      "metadata": {
        "colab": {
          "base_uri": "https://localhost:8080/",
          "height": 1000
        },
        "id": "Pi8XHvLGf2iX",
        "outputId": "6af994df-30f8-4c33-bef1-dde33fab5865"
      },
      "source": [
        "col_names = ['sqft_above','sqft_basement', 'yr_built', 'yr_renovated','zipcode']\n",
        "\n",
        "fig, ax = plt.subplots(len(col_names), figsize= (8,40))\n",
        "\n",
        "for i, col_val in enumerate(col_names):\n",
        "  sns.boxplot(y = house[col_val], ax= ax[i])\n",
        "  ax[i].set_title('Box plot - {}'.format(col_val), fontsize= 10)\n",
        "  ax[i].set_xlabel(col_val, fontsize= 8)\n",
        "plt.show()"
      ],
      "execution_count": 14,
      "outputs": [
        {
          "output_type": "display_data",
          "data": {
            "image/png": "[encoded data removed]",
            "text/plain": [
              "<Figure size 576x2880 with 5 Axes>"
            ]
          },
          "metadata": {
            "tags": [],
            "needs_background": "light"
          }
        }
      ]
    },
    {
      "cell_type": "code",
      "metadata": {
        "colab": {
          "base_uri": "https://localhost:8080/",
          "height": 1000
        },
        "id": "PMBAsSP8gRjy",
        "outputId": "e4c74e10-f275-44b7-af90-3f77d4913b49"
      },
      "source": [
        "col_names = ['lat','long', 'sqft_living15', 'sqft_lot15']\n",
        "\n",
        "fig, ax = plt.subplots(len(col_names), figsize= (8,40))\n",
        "\n",
        "for i, col_val in enumerate(col_names):\n",
        "  sns.boxplot(y = house[col_val], ax= ax[i])\n",
        "  ax[i].set_title('Box plot - {}'.format(col_val), fontsize= 10)\n",
        "  ax[i].set_xlabel(col_val, fontsize= 8)\n",
        "plt.show()"
      ],
      "execution_count": 15,
      "outputs": [
        {
          "output_type": "display_data",
          "data": {
            "image/png": "[encoded data removed]",
            "text/plain": [
              "<Figure size 576x2880 with 4 Axes>"
            ]
          },
          "metadata": {
            "tags": [],
            "needs_background": "light"
          }
        }
      ]
    },
    {
      "cell_type": "code",
      "metadata": {
        "colab": {
          "base_uri": "https://localhost:8080/",
          "height": 69
        },
        "id": "w94LY7hppK4d",
        "outputId": "eed405d1-8d4d-4c74-a89e-971828e65575"
      },
      "source": [
        "''' col_names = house.columns\n",
        "Q1 = []\n",
        "Q3 = []\n",
        "IQR = []\n",
        "for i, col_val in enumerate(col_names):\n",
        "  Q1_value = house[col_val].quantile(.25)\n",
        "  Q3_value = house[col_val].quantile(.75)\n",
        "  IQR_value = Q3_value - Q1_value\n",
        "  Q1.append(Q1_value)\n",
        "  Q3.append(Q3_value)\n",
        "  IQR.append(IQR_value)\n",
        "\n",
        "IQR ''' #This method is ok, but there's a shorter method below since alll columns are numerical."
      ],
      "execution_count": 16,
      "outputs": [
        {
          "output_type": "execute_result",
          "data": {
            "application/vnd.google.colaboratory.intrinsic+json": {
              "type": "string"
            },
            "text/plain": [
              "' col_names = house.columns\\nQ1 = []\\nQ3 = []\\nIQR = []\\nfor i, col_val in enumerate(col_names):\\n  Q1_value = house[col_val].quantile(.25)\\n  Q3_value = house[col_val].quantile(.75)\\n  IQR_value = Q3_value - Q1_value\\n  Q1.append(Q1_value)\\n  Q3.append(Q3_value)\\n  IQR.append(IQR_value)\\n\\nIQR '"
            ]
          },
          "metadata": {
            "tags": []
          },
          "execution_count": 16
        }
      ]
    },
    {
      "cell_type": "code",
      "metadata": {
        "colab": {
          "base_uri": "https://localhost:8080/"
        },
        "id": "rajmSfCwsW-5",
        "outputId": "461d19b9-412b-4f9e-e787-5c00eae3c02e"
      },
      "source": [
        "Quantile_1 = house.quantile(.25)\n",
        "Quantile_3 = house.quantile(.75)\n",
        "IQR_values = Quantile_3 - Quantile_1\n",
        "\n",
        "anomalies = ((house < Quantile_1 - 1.5* IQR_values) | (house > Quantile_3 + 1.5 * IQR_values)).sum()\n",
        "anomalies"
      ],
      "execution_count": 17,
      "outputs": [
        {
          "output_type": "execute_result",
          "data": {
            "text/plain": [
              "price            1159\n",
              "bedrooms          546\n",
              "bathrooms         571\n",
              "sqft_living       572\n",
              "sqft_lot         2425\n",
              "floors              0\n",
              "waterfront        163\n",
              "view             2124\n",
              "condition          30\n",
              "grade            1911\n",
              "sqft_above        611\n",
              "sqft_basement     496\n",
              "yr_built            0\n",
              "yr_renovated      914\n",
              "zipcode             0\n",
              "lat                 2\n",
              "long              256\n",
              "sqft_living15     544\n",
              "sqft_lot15       2194\n",
              "dtype: int64"
            ]
          },
          "metadata": {
            "tags": []
          },
          "execution_count": 17
        }
      ]
    },
    {
      "cell_type": "code",
      "metadata": {
        "colab": {
          "base_uri": "https://localhost:8080/"
        },
        "id": "B7KeGNrSvbK4",
        "outputId": "8274ccb0-d0a9-498b-8acc-f01aca5c345b"
      },
      "source": [
        "percent_anomalies = (anomalies.sum() / house.shape[0])*100\n",
        "percent_anomalies"
      ],
      "execution_count": 18,
      "outputs": [
        {
          "output_type": "execute_result",
          "data": {
            "text/plain": [
              "67.17253504835054"
            ]
          },
          "metadata": {
            "tags": []
          },
          "execution_count": 18
        }
      ]
    },
    {
      "cell_type": "markdown",
      "metadata": {
        "id": "6MUMYZ2bhLBh"
      },
      "source": [
        "The outliers seem like reasonable data that cannot be removed as this would affect the analysis, since the rows involved are roughly 67% of the data. Furthermore, the sqft_living column seems to have the same pattern of data as sqft_living15 (the same can be seen in sqft_lot15 and sqft_lot). This could mean that they are highly correlated."
      ]
    },
    {
      "cell_type": "markdown",
      "metadata": {
        "id": "6ry80eCpiEbn"
      },
      "source": [
        "### Summary Statistics"
      ]
    },
    {
      "cell_type": "code",
      "metadata": {
        "colab": {
          "base_uri": "https://localhost:8080/",
          "height": 317
        },
        "id": "xTR2fSU6gqzP",
        "outputId": "bbbc857f-2001-41fc-fe63-7c54ec729fd9"
      },
      "source": [
        "house.describe()"
      ],
      "execution_count": 19,
      "outputs": [
        {
          "output_type": "execute_result",
          "data": {
            "text/html": [
              "<div>\n",
              "<style scoped>\n",
              "    .dataframe tbody tr th:only-of-type {\n",
              "        vertical-align: middle;\n",
              "    }\n",
              "\n",
              "    .dataframe tbody tr th {\n",
              "        vertical-align: top;\n",
              "    }\n",
              "\n",
              "    .dataframe thead th {\n",
              "        text-align: right;\n",
              "    }\n",
              "</style>\n",
              "<table border=\"1\" class=\"dataframe\">\n",
              "  <thead>\n",
              "    <tr style=\"text-align: right;\">\n",
              "      <th></th>\n",
              "      <th>price</th>\n",
              "      <th>bedrooms</th>\n",
              "      <th>bathrooms</th>\n",
              "      <th>sqft_living</th>\n",
              "      <th>sqft_lot</th>\n",
              "      <th>floors</th>\n",
              "      <th>waterfront</th>\n",
              "      <th>view</th>\n",
              "      <th>condition</th>\n",
              "      <th>grade</th>\n",
              "      <th>sqft_above</th>\n",
              "      <th>sqft_basement</th>\n",
              "      <th>yr_built</th>\n",
              "      <th>yr_renovated</th>\n",
              "      <th>zipcode</th>\n",
              "      <th>lat</th>\n",
              "      <th>long</th>\n",
              "      <th>sqft_living15</th>\n",
              "      <th>sqft_lot15</th>\n",
              "    </tr>\n",
              "  </thead>\n",
              "  <tbody>\n",
              "    <tr>\n",
              "      <th>count</th>\n",
              "      <td>2.161300e+04</td>\n",
              "      <td>21613.000000</td>\n",
              "      <td>21613.000000</td>\n",
              "      <td>21613.000000</td>\n",
              "      <td>2.161300e+04</td>\n",
              "      <td>21613.000000</td>\n",
              "      <td>21613.000000</td>\n",
              "      <td>21613.000000</td>\n",
              "      <td>21613.000000</td>\n",
              "      <td>21613.000000</td>\n",
              "      <td>21613.000000</td>\n",
              "      <td>21613.000000</td>\n",
              "      <td>21613.000000</td>\n",
              "      <td>21613.000000</td>\n",
              "      <td>21613.000000</td>\n",
              "      <td>21613.000000</td>\n",
              "      <td>21613.000000</td>\n",
              "      <td>21613.000000</td>\n",
              "      <td>21613.000000</td>\n",
              "    </tr>\n",
              "    <tr>\n",
              "      <th>mean</th>\n",
              "      <td>5.401822e+05</td>\n",
              "      <td>3.370842</td>\n",
              "      <td>2.114757</td>\n",
              "      <td>2079.899736</td>\n",
              "      <td>1.510697e+04</td>\n",
              "      <td>1.494309</td>\n",
              "      <td>0.007542</td>\n",
              "      <td>0.234303</td>\n",
              "      <td>3.409430</td>\n",
              "      <td>7.656873</td>\n",
              "      <td>1788.390691</td>\n",
              "      <td>291.509045</td>\n",
              "      <td>1971.005136</td>\n",
              "      <td>84.402258</td>\n",
              "      <td>98077.939805</td>\n",
              "      <td>47.560053</td>\n",
              "      <td>-122.213896</td>\n",
              "      <td>1986.552492</td>\n",
              "      <td>12768.455652</td>\n",
              "    </tr>\n",
              "    <tr>\n",
              "      <th>std</th>\n",
              "      <td>3.673622e+05</td>\n",
              "      <td>0.930062</td>\n",
              "      <td>0.770163</td>\n",
              "      <td>918.440897</td>\n",
              "      <td>4.142051e+04</td>\n",
              "      <td>0.539989</td>\n",
              "      <td>0.086517</td>\n",
              "      <td>0.766318</td>\n",
              "      <td>0.650743</td>\n",
              "      <td>1.175459</td>\n",
              "      <td>828.090978</td>\n",
              "      <td>442.575043</td>\n",
              "      <td>29.373411</td>\n",
              "      <td>401.679240</td>\n",
              "      <td>53.505026</td>\n",
              "      <td>0.138564</td>\n",
              "      <td>0.140828</td>\n",
              "      <td>685.391304</td>\n",
              "      <td>27304.179631</td>\n",
              "    </tr>\n",
              "    <tr>\n",
              "      <th>min</th>\n",
              "      <td>7.500000e+04</td>\n",
              "      <td>0.000000</td>\n",
              "      <td>0.000000</td>\n",
              "      <td>290.000000</td>\n",
              "      <td>5.200000e+02</td>\n",
              "      <td>1.000000</td>\n",
              "      <td>0.000000</td>\n",
              "      <td>0.000000</td>\n",
              "      <td>1.000000</td>\n",
              "      <td>1.000000</td>\n",
              "      <td>290.000000</td>\n",
              "      <td>0.000000</td>\n",
              "      <td>1900.000000</td>\n",
              "      <td>0.000000</td>\n",
              "      <td>98001.000000</td>\n",
              "      <td>47.155900</td>\n",
              "      <td>-122.519000</td>\n",
              "      <td>399.000000</td>\n",
              "      <td>651.000000</td>\n",
              "    </tr>\n",
              "    <tr>\n",
              "      <th>25%</th>\n",
              "      <td>3.219500e+05</td>\n",
              "      <td>3.000000</td>\n",
              "      <td>1.750000</td>\n",
              "      <td>1427.000000</td>\n",
              "      <td>5.040000e+03</td>\n",
              "      <td>1.000000</td>\n",
              "      <td>0.000000</td>\n",
              "      <td>0.000000</td>\n",
              "      <td>3.000000</td>\n",
              "      <td>7.000000</td>\n",
              "      <td>1190.000000</td>\n",
              "      <td>0.000000</td>\n",
              "      <td>1951.000000</td>\n",
              "      <td>0.000000</td>\n",
              "      <td>98033.000000</td>\n",
              "      <td>47.471000</td>\n",
              "      <td>-122.328000</td>\n",
              "      <td>1490.000000</td>\n",
              "      <td>5100.000000</td>\n",
              "    </tr>\n",
              "    <tr>\n",
              "      <th>50%</th>\n",
              "      <td>4.500000e+05</td>\n",
              "      <td>3.000000</td>\n",
              "      <td>2.250000</td>\n",
              "      <td>1910.000000</td>\n",
              "      <td>7.618000e+03</td>\n",
              "      <td>1.500000</td>\n",
              "      <td>0.000000</td>\n",
              "      <td>0.000000</td>\n",
              "      <td>3.000000</td>\n",
              "      <td>7.000000</td>\n",
              "      <td>1560.000000</td>\n",
              "      <td>0.000000</td>\n",
              "      <td>1975.000000</td>\n",
              "      <td>0.000000</td>\n",
              "      <td>98065.000000</td>\n",
              "      <td>47.571800</td>\n",
              "      <td>-122.230000</td>\n",
              "      <td>1840.000000</td>\n",
              "      <td>7620.000000</td>\n",
              "    </tr>\n",
              "    <tr>\n",
              "      <th>75%</th>\n",
              "      <td>6.450000e+05</td>\n",
              "      <td>4.000000</td>\n",
              "      <td>2.500000</td>\n",
              "      <td>2550.000000</td>\n",
              "      <td>1.068800e+04</td>\n",
              "      <td>2.000000</td>\n",
              "      <td>0.000000</td>\n",
              "      <td>0.000000</td>\n",
              "      <td>4.000000</td>\n",
              "      <td>8.000000</td>\n",
              "      <td>2210.000000</td>\n",
              "      <td>560.000000</td>\n",
              "      <td>1997.000000</td>\n",
              "      <td>0.000000</td>\n",
              "      <td>98118.000000</td>\n",
              "      <td>47.678000</td>\n",
              "      <td>-122.125000</td>\n",
              "      <td>2360.000000</td>\n",
              "      <td>10083.000000</td>\n",
              "    </tr>\n",
              "    <tr>\n",
              "      <th>max</th>\n",
              "      <td>7.700000e+06</td>\n",
              "      <td>33.000000</td>\n",
              "      <td>8.000000</td>\n",
              "      <td>13540.000000</td>\n",
              "      <td>1.651359e+06</td>\n",
              "      <td>3.500000</td>\n",
              "      <td>1.000000</td>\n",
              "      <td>4.000000</td>\n",
              "      <td>5.000000</td>\n",
              "      <td>13.000000</td>\n",
              "      <td>9410.000000</td>\n",
              "      <td>4820.000000</td>\n",
              "      <td>2015.000000</td>\n",
              "      <td>2015.000000</td>\n",
              "      <td>98199.000000</td>\n",
              "      <td>47.777600</td>\n",
              "      <td>-121.315000</td>\n",
              "      <td>6210.000000</td>\n",
              "      <td>871200.000000</td>\n",
              "    </tr>\n",
              "  </tbody>\n",
              "</table>\n",
              "</div>"
            ],
            "text/plain": [
              "              price      bedrooms  ...  sqft_living15     sqft_lot15\n",
              "count  2.161300e+04  21613.000000  ...   21613.000000   21613.000000\n",
              "mean   5.401822e+05      3.370842  ...    1986.552492   12768.455652\n",
              "std    3.673622e+05      0.930062  ...     685.391304   27304.179631\n",
              "min    7.500000e+04      0.000000  ...     399.000000     651.000000\n",
              "25%    3.219500e+05      3.000000  ...    1490.000000    5100.000000\n",
              "50%    4.500000e+05      3.000000  ...    1840.000000    7620.000000\n",
              "75%    6.450000e+05      4.000000  ...    2360.000000   10083.000000\n",
              "max    7.700000e+06     33.000000  ...    6210.000000  871200.000000\n",
              "\n",
              "[8 rows x 19 columns]"
            ]
          },
          "metadata": {
            "tags": []
          },
          "execution_count": 19
        }
      ]
    },
    {
      "cell_type": "code",
      "metadata": {
        "colab": {
          "base_uri": "https://localhost:8080/"
        },
        "id": "e1bT_NjDiKxb",
        "outputId": "7ed9ff36-c525-4210-e603-3d9bc33de2f9"
      },
      "source": [
        "# Central Tendancies\n",
        "\n",
        "# mean\n",
        "col_names = house.columns\n",
        "\n",
        "for i, col_val in enumerate(col_names):\n",
        "  print('The mean of ' + str(col_val) + ' is ' + str(house[col_val].mean()))\n",
        "\n",
        "# mean of longitudes is negative, showing that the areas under review are in the Western hemisphere of the globe\n",
        "# They are on the westside of the Prime Meridian and the co-ordinates relate to the 'Americas'"
      ],
      "execution_count": 20,
      "outputs": [
        {
          "output_type": "stream",
          "text": [
            "The mean of price is 540182.1587933188\n",
            "The mean of bedrooms is 3.37084162309721\n",
            "The mean of bathrooms is 2.1147573219821405\n",
            "The mean of sqft_living is 2079.8997362698374\n",
            "The mean of sqft_lot is 15106.967565816869\n",
            "The mean of floors is 1.4943089807060566\n",
            "The mean of waterfront is 0.007541757275713691\n",
            "The mean of view is 0.23430342849211122\n",
            "The mean of condition is 3.4094295100171195\n",
            "The mean of grade is 7.656873178179799\n",
            "The mean of sqft_above is 1788.3906907879516\n",
            "The mean of sqft_basement is 291.5090454818859\n",
            "The mean of yr_built is 1971.0051357978994\n",
            "The mean of yr_renovated is 84.40225790033776\n",
            "The mean of zipcode is 98077.93980474715\n",
            "The mean of lat is 47.56005251931704\n",
            "The mean of long is -122.21389640494083\n",
            "The mean of sqft_living15 is 1986.552491556008\n",
            "The mean of sqft_lot15 is 12768.455651691113\n"
          ],
          "name": "stdout"
        }
      ]
    },
    {
      "cell_type": "code",
      "metadata": {
        "colab": {
          "base_uri": "https://localhost:8080/"
        },
        "id": "2FpH3gZMl5zS",
        "outputId": "59d55d01-6c16-4b13-9f3a-fbd246d839ee"
      },
      "source": [
        "# median\n",
        "\n",
        "for i, col_val in enumerate(col_names):\n",
        "  print('The median of ' + str(col_val) + ' is ' + str(house[col_val].median()))\n",
        "\n",
        "# The median of the longitudes show that the continent being observed is the American continent."
      ],
      "execution_count": 21,
      "outputs": [
        {
          "output_type": "stream",
          "text": [
            "The median of price is 450000.0\n",
            "The median of bedrooms is 3.0\n",
            "The median of bathrooms is 2.25\n",
            "The median of sqft_living is 1910.0\n",
            "The median of sqft_lot is 7618.0\n",
            "The median of floors is 1.5\n",
            "The median of waterfront is 0.0\n",
            "The median of view is 0.0\n",
            "The median of condition is 3.0\n",
            "The median of grade is 7.0\n",
            "The median of sqft_above is 1560.0\n",
            "The median of sqft_basement is 0.0\n",
            "The median of yr_built is 1975.0\n",
            "The median of yr_renovated is 0.0\n",
            "The median of zipcode is 98065.0\n",
            "The median of lat is 47.5718\n",
            "The median of long is -122.23\n",
            "The median of sqft_living15 is 1840.0\n",
            "The median of sqft_lot15 is 7620.0\n"
          ],
          "name": "stdout"
        }
      ]
    },
    {
      "cell_type": "code",
      "metadata": {
        "colab": {
          "base_uri": "https://localhost:8080/"
        },
        "id": "okyhc2donoqr",
        "outputId": "9b5b7667-a6f2-40c8-b4fd-f09dfb07c9ca"
      },
      "source": [
        "# mode\n",
        "\n",
        "for i, col_val in enumerate(col_names):\n",
        "  print('The mode of ' + str(col_val) + ' is ' + str(house[col_val].mode()))\n",
        "\n",
        "# The modes are unimodal showing that the data was gathered from the same population."
      ],
      "execution_count": 22,
      "outputs": [
        {
          "output_type": "stream",
          "text": [
            "The mode of price is 0    350000.0\n",
            "1    450000.0\n",
            "dtype: float64\n",
            "The mode of bedrooms is 0    3\n",
            "dtype: int64\n",
            "The mode of bathrooms is 0    2.5\n",
            "dtype: float64\n",
            "The mode of sqft_living is 0    1300\n",
            "dtype: int64\n",
            "The mode of sqft_lot is 0    5000\n",
            "dtype: int64\n",
            "The mode of floors is 0    1.0\n",
            "dtype: float64\n",
            "The mode of waterfront is 0    0\n",
            "dtype: int64\n",
            "The mode of view is 0    0\n",
            "dtype: int64\n",
            "The mode of condition is 0    3\n",
            "dtype: int64\n",
            "The mode of grade is 0    7\n",
            "dtype: int64\n",
            "The mode of sqft_above is 0    1300\n",
            "dtype: int64\n",
            "The mode of sqft_basement is 0    0\n",
            "dtype: int64\n",
            "The mode of yr_built is 0    2014\n",
            "dtype: int64\n",
            "The mode of yr_renovated is 0    0\n",
            "dtype: int64\n",
            "The mode of zipcode is 0    98103\n",
            "dtype: int64\n",
            "The mode of lat is 0    47.5322\n",
            "1    47.5491\n",
            "2    47.6624\n",
            "3    47.6846\n",
            "dtype: float64\n",
            "The mode of long is 0   -122.29\n",
            "dtype: float64\n",
            "The mode of sqft_living15 is 0    1540\n",
            "dtype: int64\n",
            "The mode of sqft_lot15 is 0    5000\n",
            "dtype: int64\n"
          ],
          "name": "stdout"
        }
      ]
    },
    {
      "cell_type": "code",
      "metadata": {
        "colab": {
          "base_uri": "https://localhost:8080/"
        },
        "id": "j60fF4U9n4GI",
        "outputId": "827edaa4-7312-453e-9b05-fe16c03bd1b7"
      },
      "source": [
        "# range\n",
        "\n",
        "for i, col_val in enumerate(col_names):\n",
        "  print('The range of ' + str(col_val) + ' is ' + str(house[col_val].max()-house[col_val].min()))"
      ],
      "execution_count": 23,
      "outputs": [
        {
          "output_type": "stream",
          "text": [
            "The range of price is 7625000.0\n",
            "The range of bedrooms is 33\n",
            "The range of bathrooms is 8.0\n",
            "The range of sqft_living is 13250\n",
            "The range of sqft_lot is 1650839\n",
            "The range of floors is 2.5\n",
            "The range of waterfront is 1\n",
            "The range of view is 4\n",
            "The range of condition is 4\n",
            "The range of grade is 12\n",
            "The range of sqft_above is 9120\n",
            "The range of sqft_basement is 4820\n",
            "The range of yr_built is 115\n",
            "The range of yr_renovated is 2015\n",
            "The range of zipcode is 198\n",
            "The range of lat is 0.621699999999997\n",
            "The range of long is 1.2039999999999935\n",
            "The range of sqft_living15 is 5811\n",
            "The range of sqft_lot15 is 870549\n"
          ],
          "name": "stdout"
        }
      ]
    },
    {
      "cell_type": "code",
      "metadata": {
        "colab": {
          "base_uri": "https://localhost:8080/"
        },
        "id": "OpPuckmJoGYs",
        "outputId": "c619cb23-27b1-4084-b1eb-fa778f77ab1b"
      },
      "source": [
        "# standard deviation\n",
        "\n",
        "for i, col_val in enumerate(col_names):\n",
        "  print('The standard deviation of ' + str(col_val) + ' is ' + str(house[col_val].std()))\n",
        "\n",
        "# variables with higher range showcase higher standard deviation from the mean."
      ],
      "execution_count": 24,
      "outputs": [
        {
          "output_type": "stream",
          "text": [
            "The standard deviation of price is 367362.23171800975\n",
            "The standard deviation of bedrooms is 0.9300618311474632\n",
            "The standard deviation of bathrooms is 0.7701631572177287\n",
            "The standard deviation of sqft_living is 918.4408970468115\n",
            "The standard deviation of sqft_lot is 41420.51151513528\n",
            "The standard deviation of floors is 0.5399888951423824\n",
            "The standard deviation of waterfront is 0.0865171977279032\n",
            "The standard deviation of view is 0.7663175692736397\n",
            "The standard deviation of condition is 0.6507430463662665\n",
            "The standard deviation of grade is 1.1754587569743042\n",
            "The standard deviation of sqft_above is 828.0909776519151\n",
            "The standard deviation of sqft_basement is 442.57504267744406\n",
            "The standard deviation of yr_built is 29.373410802390172\n",
            "The standard deviation of yr_renovated is 401.6792400190783\n",
            "The standard deviation of zipcode is 53.505026257473695\n",
            "The standard deviation of lat is 0.1385637102419246\n",
            "The standard deviation of long is 0.14082834238139227\n",
            "The standard deviation of sqft_living15 is 685.391304252777\n",
            "The standard deviation of sqft_lot15 is 27304.179631338575\n"
          ],
          "name": "stdout"
        }
      ]
    },
    {
      "cell_type": "code",
      "metadata": {
        "colab": {
          "base_uri": "https://localhost:8080/"
        },
        "id": "1REI_SoJoiaj",
        "outputId": "da109dbd-2832-47cd-a90e-3d678bf3a261"
      },
      "source": [
        "# variance\n",
        "\n",
        "for i, col_val in enumerate(col_names):\n",
        "  print('The variance of ' + str(col_val) + ' is ' + str(house[col_val].var()))\n",
        "\n",
        "# As expected, variables with higher standard deviation, also have higher variance."
      ],
      "execution_count": 25,
      "outputs": [
        {
          "output_type": "stream",
          "text": [
            "The variance of price is 134955009292.83669\n",
            "The variance of bedrooms is 0.8650150097573724\n",
            "The variance of bathrooms is 0.5931512887355798\n",
            "The variance of sqft_living is 843533.6813681519\n",
            "The variance of sqft_lot is 1715658774.1754541\n",
            "The variance of floors is 0.29158800687709074\n",
            "The variance of waterfront is 0.007485225502689098\n",
            "The variance of view is 0.5872426169774596\n",
            "The variance of condition is 0.42346651239404876\n",
            "The variance of grade is 1.3817032893475767\n",
            "The variance of sqft_above is 685734.6672685045\n",
            "The variance of sqft_basement is 195872.66840094145\n",
            "The variance of yr_built is 862.7972621659717\n",
            "The variance of yr_renovated is 161346.2118623043\n",
            "The variance of zipcode is 2862.7878348129493\n",
            "The variance of lat is 0.01919990179600804\n",
            "The variance of long is 0.019832622017890645\n",
            "The variance of sqft_living15 is 469761.23994532274\n",
            "The variance of sqft_lot15 is 745518225.3404043\n"
          ],
          "name": "stdout"
        }
      ]
    },
    {
      "cell_type": "code",
      "metadata": {
        "colab": {
          "base_uri": "https://localhost:8080/"
        },
        "id": "8qX90fl5os50",
        "outputId": "edb7b5a4-8699-4cce-bbeb-0556a0027759"
      },
      "source": [
        "# skewness\n",
        "\n",
        "for i, col_val in enumerate(col_names):\n",
        "  print('The skewness of ' + str(col_val) + ' is ' + str(house[col_val].skew()))\n",
        "  \n",
        "# Only year built and latitude have negative skewness"
      ],
      "execution_count": 26,
      "outputs": [
        {
          "output_type": "stream",
          "text": [
            "The skewness of price is 4.021715573048684\n",
            "The skewness of bedrooms is 1.97429953543601\n",
            "The skewness of bathrooms is 0.5111075733474171\n",
            "The skewness of sqft_living is 1.471555426802092\n",
            "The skewness of sqft_lot is 13.060018959031755\n",
            "The skewness of floors is 0.616176721157611\n",
            "The skewness of waterfront is 11.385107942339081\n",
            "The skewness of view is 3.395749593248714\n",
            "The skewness of condition is 1.0328046374434587\n",
            "The skewness of grade is 0.7711032007576067\n",
            "The skewness of sqft_above is 1.4466644733818372\n",
            "The skewness of sqft_basement is 1.5779650555996247\n",
            "The skewness of yr_built is -0.46980539881436767\n",
            "The skewness of yr_renovated is 4.549493366993928\n",
            "The skewness of zipcode is 0.4056612082396646\n",
            "The skewness of lat is -0.4852704765380861\n",
            "The skewness of long is 0.8850529834328087\n",
            "The skewness of sqft_living15 is 1.1081812758966967\n",
            "The skewness of sqft_lot15 is 9.506743246764398\n"
          ],
          "name": "stdout"
        }
      ]
    },
    {
      "cell_type": "code",
      "metadata": {
        "colab": {
          "base_uri": "https://localhost:8080/"
        },
        "id": "0_kycSxio4oL",
        "outputId": "03553b1f-901f-4944-b11e-585f96b7516f"
      },
      "source": [
        "# kurtosis\n",
        "\n",
        "for i, col_val in enumerate(col_names):\n",
        "  print('The kurtosis of ' + str(col_val) + ' is ' + str(house[col_val].kurt()))\n",
        "\n",
        "# Only floors, year built, zipcode and latitude have negative kurtosis"
      ],
      "execution_count": 27,
      "outputs": [
        {
          "output_type": "stream",
          "text": [
            "The kurtosis of price is 34.522444410072566\n",
            "The kurtosis of bedrooms is 49.06365318170099\n",
            "The kurtosis of bathrooms is 1.2799024441754554\n",
            "The kurtosis of sqft_living is 5.24309298981711\n",
            "The kurtosis of sqft_lot is 285.0778196973658\n",
            "The kurtosis of floors is -0.4847229368298285\n",
            "The kurtosis of waterfront is 127.63249356537696\n",
            "The kurtosis of view is 10.893021684601504\n",
            "The kurtosis of condition is 0.5257635652845423\n",
            "The kurtosis of grade is 1.1909320773987657\n",
            "The kurtosis of sqft_above is 3.40230362139787\n",
            "The kurtosis of sqft_basement is 2.7155742114129353\n",
            "The kurtosis of yr_built is -0.657407504733527\n",
            "The kurtosis of yr_renovated is 18.701152117599058\n",
            "The kurtosis of zipcode is -0.8534788732101246\n",
            "The kurtosis of lat is -0.6763130016065335\n",
            "The kurtosis of long is 1.0495008872914617\n",
            "The kurtosis of sqft_living15 is 1.5970958104616884\n",
            "The kurtosis of sqft_lot15 is 150.76311004626973\n"
          ],
          "name": "stdout"
        }
      ]
    },
    {
      "cell_type": "markdown",
      "metadata": {
        "id": "gLkwf1JnwPLf"
      },
      "source": [
        "### Univariate Analysis Recommendation\n",
        "\n",
        "Most of the skewness of the data is positive, indicating a mostly positively skewed dataset on most variables. This means that most distributions have longer tails to the right i.e. right-skewed / leptokurtic. Same goes for kurtosis as The data has mostly positive kurtosis indicating that most variables distributions have heavier tails and taller peaks than the normal distribution."
      ]
    },
    {
      "cell_type": "markdown",
      "metadata": {
        "id": "aBSlFnG9xchV"
      },
      "source": [
        "## BIVARIATE ANALYSIS"
      ]
    },
    {
      "cell_type": "code",
      "metadata": {
        "colab": {
          "base_uri": "https://localhost:8080/"
        },
        "id": "ldinaEGCpAj5",
        "outputId": "3b6d8299-ed6e-49b7-a8ac-290e37e13870"
      },
      "source": [
        "house.info()"
      ],
      "execution_count": 28,
      "outputs": [
        {
          "output_type": "stream",
          "text": [
            "<class 'pandas.core.frame.DataFrame'>\n",
            "RangeIndex: 21613 entries, 0 to 21612\n",
            "Data columns (total 19 columns):\n",
            " #   Column         Non-Null Count  Dtype  \n",
            "---  ------         --------------  -----  \n",
            " 0   price          21613 non-null  float64\n",
            " 1   bedrooms       21613 non-null  int64  \n",
            " 2   bathrooms      21613 non-null  float64\n",
            " 3   sqft_living    21613 non-null  int64  \n",
            " 4   sqft_lot       21613 non-null  int64  \n",
            " 5   floors         21613 non-null  float64\n",
            " 6   waterfront     21613 non-null  int64  \n",
            " 7   view           21613 non-null  int64  \n",
            " 8   condition      21613 non-null  int64  \n",
            " 9   grade          21613 non-null  int64  \n",
            " 10  sqft_above     21613 non-null  int64  \n",
            " 11  sqft_basement  21613 non-null  int64  \n",
            " 12  yr_built       21613 non-null  int64  \n",
            " 13  yr_renovated   21613 non-null  int64  \n",
            " 14  zipcode        21613 non-null  int64  \n",
            " 15  lat            21613 non-null  float64\n",
            " 16  long           21613 non-null  float64\n",
            " 17  sqft_living15  21613 non-null  int64  \n",
            " 18  sqft_lot15     21613 non-null  int64  \n",
            "dtypes: float64(5), int64(14)\n",
            "memory usage: 3.1 MB\n"
          ],
          "name": "stdout"
        }
      ]
    },
    {
      "cell_type": "code",
      "metadata": {
        "colab": {
          "base_uri": "https://localhost:8080/"
        },
        "id": "BqbGDerU1c2y",
        "outputId": "b025660d-d118-44f5-a371-12d819758b3a"
      },
      "source": [
        "sns.pairplot(house, height=2)"
      ],
      "execution_count": 29,
      "outputs": [
        {
          "output_type": "execute_result",
          "data": {
            "text/plain": [
              "<seaborn.axisgrid.PairGrid at 0x7ff1d9b1ecc0>"
            ]
          },
          "metadata": {
            "tags": []
          },
          "execution_count": 29
        }
      ]
    },
    {
      "cell_type": "code",
      "metadata": {
        "id": "RQJkFADd1ifO"
      },
      "source": [
        "# Thers's too many variables to see the pairplot properly, so lets use a heatmap.\n",
        "plt.figure(figsize=(20,10))\n",
        "sns.heatmap(house.corr(), annot= True)"
      ],
      "execution_count": null,
      "outputs": []
    },
    {
      "cell_type": "markdown",
      "metadata": {
        "id": "jmg5gBNX_6Dk"
      },
      "source": [
        "### Bivariate Analysis Recommendation\n",
        "\n",
        "As can be seen from the correlation heatmap, our target variable seems to have moderate to somewhat strong correlation with bathrooms, sqft_living, grade, sqft_above and sqft_living15, with all being above 0.5. These could be the variables that mostly affect the price of the house and will be investigated when designing our model and coming up with our predictions. Furthermore, as was discovered in the Univariate Analysis, it has been confirmed that the sqft_living and sqft_living15 are highly correlated (0.76) and sqft_lot and sqft_lot15 are also highly correlated(0.72)"
      ]
    },
    {
      "cell_type": "markdown",
      "metadata": {
        "id": "rSaAg3nMBg6v"
      },
      "source": [
        "## EXPLORATORY DATA ANALYSIS"
      ]
    },
    {
      "cell_type": "code",
      "metadata": {
        "id": "PxO4zD0_7Mae"
      },
      "source": [
        "# In this section, we'll try discover some relationships between price and the columns we discovered to be moderately,\n",
        "# to strongly correlated to it, i.e. bathrooms, sqft_living,grade,sqft_above and sqft_living15.\n",
        "\n",
        "correlated = house[['price','bathrooms', 'sqft_living','grade','sqft_above', 'sqft_living15']]\n",
        "sns.pairplot(correlated)\n",
        "\n",
        "# From below we can see the positive linear correlation between the price and the said features.\n",
        "# The features also have strong positive correlation with each other."
      ],
      "execution_count": null,
      "outputs": []
    },
    {
      "cell_type": "code",
      "metadata": {
        "id": "SB5sUdnJC3VS"
      },
      "source": [
        "house['price'].hist(bins=100)\n",
        "\n",
        "# Our target variable has been confirmed to be right tailed and not normally distributed."
      ],
      "execution_count": null,
      "outputs": []
    },
    {
      "cell_type": "code",
      "metadata": {
        "colab": {
          "base_uri": "https://localhost:8080/",
          "height": 885
        },
        "id": "iVUTjQK5E6x0",
        "outputId": "ace55336-8dc6-4aa6-e255-97df5d53bd3f"
      },
      "source": [
        "fig, (ax1,ax2,ax3,ax4,ax5) = plt.subplots(5,1, figsize=(10, 10))\n",
        "fig.suptitle('Price Relationships with variables')\n",
        "sns.regplot(house.price, house.bathrooms, ax=ax1)\n",
        "sns.regplot(house.price, house.sqft_living, ax=ax2)\n",
        "sns.regplot(house.price, house.grade, ax=ax3)\n",
        "sns.regplot(house.price, house.sqft_above, ax=ax4)\n",
        "sns.regplot(house.price, house.sqft_living15, ax=ax5)\n",
        "\n",
        "# The plots below show the positive linear relationship we had discovered."
      ],
      "execution_count": 33,
      "outputs": [
        {
          "output_type": "stream",
          "text": [
            "/usr/local/lib/python3.6/dist-packages/seaborn/_decorators.py:43: FutureWarning: Pass the following variables as keyword args: x, y. From version 0.12, the only valid positional argument will be `data`, and passing other arguments without an explicit keyword will result in an error or misinterpretation.\n",
            "  FutureWarning\n",
            "/usr/local/lib/python3.6/dist-packages/seaborn/_decorators.py:43: FutureWarning: Pass the following variables as keyword args: x, y. From version 0.12, the only valid positional argument will be `data`, and passing other arguments without an explicit keyword will result in an error or misinterpretation.\n",
            "  FutureWarning\n",
            "/usr/local/lib/python3.6/dist-packages/seaborn/_decorators.py:43: FutureWarning: Pass the following variables as keyword args: x, y. From version 0.12, the only valid positional argument will be `data`, and passing other arguments without an explicit keyword will result in an error or misinterpretation.\n",
            "  FutureWarning\n",
            "/usr/local/lib/python3.6/dist-packages/seaborn/_decorators.py:43: FutureWarning: Pass the following variables as keyword args: x, y. From version 0.12, the only valid positional argument will be `data`, and passing other arguments without an explicit keyword will result in an error or misinterpretation.\n",
            "  FutureWarning\n",
            "/usr/local/lib/python3.6/dist-packages/seaborn/_decorators.py:43: FutureWarning: Pass the following variables as keyword args: x, y. From version 0.12, the only valid positional argument will be `data`, and passing other arguments without an explicit keyword will result in an error or misinterpretation.\n",
            "  FutureWarning\n"
          ],
          "name": "stderr"
        },
        {
          "output_type": "execute_result",
          "data": {
            "text/plain": [
              "<matplotlib.axes._subplots.AxesSubplot at 0x7ff1c05966a0>"
            ]
          },
          "metadata": {
            "tags": []
          },
          "execution_count": 0
        },
        {
          "output_type": "display_data",
          "data": {
            "image/png": "[encoded data removed]",
            "text/plain": [
              "<Figure size 720x720 with 5 Axes>"
            ]
          },
          "metadata": {
            "tags": []
          }
        }
      ]
    },
    {
      "cell_type": "markdown",
      "metadata": {
        "id": "zhmZTJGQIx9K"
      },
      "source": [
        "# MODELING"
      ]
    },
    {
      "cell_type": "markdown",
      "metadata": {
        "id": "Giq8KThWR5PB"
      },
      "source": [
        "## PREPARATION"
      ]
    },
    {
      "cell_type": "code",
      "metadata": {
        "id": "gBbinbRjG9Pg"
      },
      "source": [
        "# Importing some of the libraries we might use\n",
        "\n",
        "from sklearn.model_selection import train_test_split\n",
        "from sklearn import metrics\n",
        "from sklearn.metrics import mean_squared_error, r2_score\n",
        "from sklearn.metrics import confusion_matrix\n",
        "from sklearn.metrics import accuracy_score\n",
        "from sklearn import model_selection\n",
        "from sklearn.model_selection import cross_validate\n",
        "from sklearn.model_selection import cross_val_score\n",
        "from sklearn.model_selection import KFold\n",
        "from sklearn.model_selection import GridSearchCV\n",
        "from sklearn.preprocessing import StandardScaler\n",
        "from sklearn.linear_model import LinearRegression\n",
        "from sklearn.linear_model import Lasso\n",
        "from sklearn.linear_model import Ridge\n",
        "from sklearn.linear_model import ElasticNet\n",
        "\n",
        "\n",
        "# Setting the warnings that may appear in our modelling off\n",
        "import warnings\n",
        "warnings.filterwarnings('ignore')\n",
        "\n",
        "# Setting the pandas warning for chained assignments off, the default is usually on.\n",
        "pd.options.mode.chained_assignment = None"
      ],
      "execution_count": 34,
      "outputs": []
    },
    {
      "cell_type": "code",
      "metadata": {
        "id": "QJZWV390MZiL"
      },
      "source": [
        "# SPLITTING DATA INTO TEST AND TRAIN SETS INTO GLOBAL VARIABLES\n",
        "\n",
        "X = house.drop(columns= ['price'])\n",
        "y = house.price\n",
        "\n",
        "\n",
        "X_train, X_test, y_train, y_test = train_test_split(X,y, test_size= 0.3, random_state= 10)"
      ],
      "execution_count": 35,
      "outputs": []
    },
    {
      "cell_type": "markdown",
      "metadata": {
        "id": "sP-OOjzoSf8J"
      },
      "source": [
        "## MULTIPLE LINEAR REGRESSION"
      ]
    },
    {
      "cell_type": "markdown",
      "metadata": {
        "id": "c7mPoTmLSxSy"
      },
      "source": [
        "### Checking Multicolinearity"
      ]
    },
    {
      "cell_type": "code",
      "metadata": {
        "colab": {
          "base_uri": "https://localhost:8080/",
          "height": 638
        },
        "id": "Bp36UMVrNEZo",
        "outputId": "b6c6c594-f3ad-4b81-a795-089fac1ea8d4"
      },
      "source": [
        "house_correlation = house.corr()\n",
        "\n",
        "# Let's use these correlations to compute the VIF score for each variable.\n",
        "\n",
        "pd.DataFrame(np.linalg.inv(house_correlation.values), index = house_correlation.index, \n",
        "             columns=house_correlation.columns)"
      ],
      "execution_count": 36,
      "outputs": [
        {
          "output_type": "execute_result",
          "data": {
            "text/html": [
              "<div>\n",
              "<style scoped>\n",
              "    .dataframe tbody tr th:only-of-type {\n",
              "        vertical-align: middle;\n",
              "    }\n",
              "\n",
              "    .dataframe tbody tr th {\n",
              "        vertical-align: top;\n",
              "    }\n",
              "\n",
              "    .dataframe thead th {\n",
              "        text-align: right;\n",
              "    }\n",
              "</style>\n",
              "<table border=\"1\" class=\"dataframe\">\n",
              "  <thead>\n",
              "    <tr style=\"text-align: right;\">\n",
              "      <th></th>\n",
              "      <th>price</th>\n",
              "      <th>bedrooms</th>\n",
              "      <th>bathrooms</th>\n",
              "      <th>sqft_living</th>\n",
              "      <th>sqft_lot</th>\n",
              "      <th>floors</th>\n",
              "      <th>waterfront</th>\n",
              "      <th>view</th>\n",
              "      <th>condition</th>\n",
              "      <th>grade</th>\n",
              "      <th>sqft_above</th>\n",
              "      <th>sqft_basement</th>\n",
              "      <th>yr_built</th>\n",
              "      <th>yr_renovated</th>\n",
              "      <th>zipcode</th>\n",
              "      <th>lat</th>\n",
              "      <th>long</th>\n",
              "      <th>sqft_living15</th>\n",
              "      <th>sqft_lot15</th>\n",
              "    </tr>\n",
              "  </thead>\n",
              "  <tbody>\n",
              "    <tr>\n",
              "      <th>price</th>\n",
              "      <td>3.330586</td>\n",
              "      <td>0.301852</td>\n",
              "      <td>-0.287446</td>\n",
              "      <td>-1.058380e+00</td>\n",
              "      <td>-0.048219</td>\n",
              "      <td>-0.032777</td>\n",
              "      <td>-0.457309</td>\n",
              "      <td>-0.367765</td>\n",
              "      <td>-0.155831</td>\n",
              "      <td>-1.022917</td>\n",
              "      <td>-4.089068e-01</td>\n",
              "      <td>-9.316871e-02</td>\n",
              "      <td>0.698363</td>\n",
              "      <td>-0.072194</td>\n",
              "      <td>0.282599</td>\n",
              "      <td>-0.757298</td>\n",
              "      <td>0.274458</td>\n",
              "      <td>-0.134692</td>\n",
              "      <td>0.094677</td>\n",
              "    </tr>\n",
              "    <tr>\n",
              "      <th>bedrooms</th>\n",
              "      <td>0.301852</td>\n",
              "      <td>1.679420</td>\n",
              "      <td>-0.487222</td>\n",
              "      <td>-2.935008e-01</td>\n",
              "      <td>0.044991</td>\n",
              "      <td>0.046724</td>\n",
              "      <td>0.021789</td>\n",
              "      <td>0.080781</td>\n",
              "      <td>-0.064890</td>\n",
              "      <td>0.214341</td>\n",
              "      <td>-7.338456e-01</td>\n",
              "      <td>-3.969295e-01</td>\n",
              "      <td>0.197791</td>\n",
              "      <td>0.038911</td>\n",
              "      <td>0.105724</td>\n",
              "      <td>-0.017845</td>\n",
              "      <td>0.042269</td>\n",
              "      <td>0.013006</td>\n",
              "      <td>0.093980</td>\n",
              "    </tr>\n",
              "    <tr>\n",
              "      <th>bathrooms</th>\n",
              "      <td>-0.287446</td>\n",
              "      <td>-0.487222</td>\n",
              "      <td>3.375600</td>\n",
              "      <td>-4.954651e+00</td>\n",
              "      <td>-0.019966</td>\n",
              "      <td>-0.672246</td>\n",
              "      <td>0.049228</td>\n",
              "      <td>-0.009905</td>\n",
              "      <td>-0.123571</td>\n",
              "      <td>-0.179722</td>\n",
              "      <td>3.317089e+00</td>\n",
              "      <td>1.361152e+00</td>\n",
              "      <td>-0.996051</td>\n",
              "      <td>-0.253551</td>\n",
              "      <td>0.017406</td>\n",
              "      <td>0.024402</td>\n",
              "      <td>0.030368</td>\n",
              "      <td>0.103757</td>\n",
              "      <td>0.063300</td>\n",
              "    </tr>\n",
              "    <tr>\n",
              "      <th>sqft_living</th>\n",
              "      <td>-1.052110</td>\n",
              "      <td>-0.293914</td>\n",
              "      <td>-4.958625</td>\n",
              "      <td>-3.365476e+13</td>\n",
              "      <td>-0.107501</td>\n",
              "      <td>0.524832</td>\n",
              "      <td>0.593069</td>\n",
              "      <td>-0.474494</td>\n",
              "      <td>-0.311749</td>\n",
              "      <td>-0.467869</td>\n",
              "      <td>3.034404e+13</td>\n",
              "      <td>1.621744e+13</td>\n",
              "      <td>1.441378</td>\n",
              "      <td>0.088434</td>\n",
              "      <td>-0.233227</td>\n",
              "      <td>0.262594</td>\n",
              "      <td>-0.212666</td>\n",
              "      <td>-0.936343</td>\n",
              "      <td>-0.215230</td>\n",
              "    </tr>\n",
              "    <tr>\n",
              "      <th>sqft_lot</th>\n",
              "      <td>-0.048219</td>\n",
              "      <td>0.044991</td>\n",
              "      <td>-0.019966</td>\n",
              "      <td>-1.078762e-01</td>\n",
              "      <td>2.103220</td>\n",
              "      <td>0.045737</td>\n",
              "      <td>0.033931</td>\n",
              "      <td>-0.053673</td>\n",
              "      <td>0.032817</td>\n",
              "      <td>-0.039042</td>\n",
              "      <td>-8.223931e-02</td>\n",
              "      <td>1.811909e-02</td>\n",
              "      <td>0.088652</td>\n",
              "      <td>0.022488</td>\n",
              "      <td>-0.006702</td>\n",
              "      <td>0.064330</td>\n",
              "      <td>-0.137136</td>\n",
              "      <td>0.165894</td>\n",
              "      <td>-1.460689</td>\n",
              "    </tr>\n",
              "    <tr>\n",
              "      <th>floors</th>\n",
              "      <td>-0.032777</td>\n",
              "      <td>0.046724</td>\n",
              "      <td>-0.672246</td>\n",
              "      <td>5.213931e-01</td>\n",
              "      <td>0.045737</td>\n",
              "      <td>2.012230</td>\n",
              "      <td>-0.000780</td>\n",
              "      <td>-0.037007</td>\n",
              "      <td>0.091206</td>\n",
              "      <td>-0.220784</td>\n",
              "      <td>-9.603473e-01</td>\n",
              "      <td>3.701780e-01</td>\n",
              "      <td>-0.488352</td>\n",
              "      <td>-0.079893</td>\n",
              "      <td>-0.173547</td>\n",
              "      <td>-0.120184</td>\n",
              "      <td>0.161366</td>\n",
              "      <td>0.273942</td>\n",
              "      <td>0.071727</td>\n",
              "    </tr>\n",
              "    <tr>\n",
              "      <th>waterfront</th>\n",
              "      <td>-0.457309</td>\n",
              "      <td>0.021789</td>\n",
              "      <td>0.049228</td>\n",
              "      <td>5.944617e-01</td>\n",
              "      <td>0.033931</td>\n",
              "      <td>-0.000780</td>\n",
              "      <td>1.266557</td>\n",
              "      <td>-0.442049</td>\n",
              "      <td>0.008726</td>\n",
              "      <td>0.189692</td>\n",
              "      <td>-4.610539e-01</td>\n",
              "      <td>-2.073544e-01</td>\n",
              "      <td>-0.116940</td>\n",
              "      <td>-0.055490</td>\n",
              "      <td>-0.016251</td>\n",
              "      <td>0.113878</td>\n",
              "      <td>-0.010247</td>\n",
              "      <td>0.072946</td>\n",
              "      <td>-0.031469</td>\n",
              "    </tr>\n",
              "    <tr>\n",
              "      <th>view</th>\n",
              "      <td>-0.367765</td>\n",
              "      <td>0.080781</td>\n",
              "      <td>-0.009905</td>\n",
              "      <td>-4.761005e-01</td>\n",
              "      <td>-0.053673</td>\n",
              "      <td>-0.037007</td>\n",
              "      <td>-0.442049</td>\n",
              "      <td>1.475769</td>\n",
              "      <td>-0.004268</td>\n",
              "      <td>-0.072286</td>\n",
              "      <td>6.187907e-01</td>\n",
              "      <td>3.941484e-02</td>\n",
              "      <td>0.074506</td>\n",
              "      <td>-0.032265</td>\n",
              "      <td>-0.171884</td>\n",
              "      <td>0.202108</td>\n",
              "      <td>0.041202</td>\n",
              "      <td>-0.310742</td>\n",
              "      <td>-0.017947</td>\n",
              "    </tr>\n",
              "    <tr>\n",
              "      <th>condition</th>\n",
              "      <td>-0.155831</td>\n",
              "      <td>-0.064890</td>\n",
              "      <td>-0.123571</td>\n",
              "      <td>-3.134202e-01</td>\n",
              "      <td>0.032817</td>\n",
              "      <td>0.091206</td>\n",
              "      <td>0.008726</td>\n",
              "      <td>-0.004268</td>\n",
              "      <td>1.256766</td>\n",
              "      <td>-0.006594</td>\n",
              "      <td>4.015650e-01</td>\n",
              "      <td>8.162074e-02</td>\n",
              "      <td>0.528874</td>\n",
              "      <td>0.210050</td>\n",
              "      <td>0.148046</td>\n",
              "      <td>0.099106</td>\n",
              "      <td>-0.019870</td>\n",
              "      <td>0.082163</td>\n",
              "      <td>-0.032684</td>\n",
              "    </tr>\n",
              "    <tr>\n",
              "      <th>grade</th>\n",
              "      <td>-1.022917</td>\n",
              "      <td>0.214341</td>\n",
              "      <td>-0.179722</td>\n",
              "      <td>-4.612042e-01</td>\n",
              "      <td>-0.039042</td>\n",
              "      <td>-0.220784</td>\n",
              "      <td>0.189692</td>\n",
              "      <td>-0.072286</td>\n",
              "      <td>-0.006594</td>\n",
              "      <td>3.731213</td>\n",
              "      <td>-7.755239e-01</td>\n",
              "      <td>-7.888923e-02</td>\n",
              "      <td>-0.853468</td>\n",
              "      <td>-0.049250</td>\n",
              "      <td>-0.003473</td>\n",
              "      <td>-0.098281</td>\n",
              "      <td>0.309540</td>\n",
              "      <td>-0.870235</td>\n",
              "      <td>0.042796</td>\n",
              "    </tr>\n",
              "    <tr>\n",
              "      <th>sqft_above</th>\n",
              "      <td>-0.412835</td>\n",
              "      <td>-0.733542</td>\n",
              "      <td>3.315076</td>\n",
              "      <td>3.034404e+13</td>\n",
              "      <td>-0.082728</td>\n",
              "      <td>-0.964106</td>\n",
              "      <td>-0.459888</td>\n",
              "      <td>0.617699</td>\n",
              "      <td>0.400342</td>\n",
              "      <td>-0.769717</td>\n",
              "      <td>-2.735900e+13</td>\n",
              "      <td>-1.462208e+13</td>\n",
              "      <td>-1.065072</td>\n",
              "      <td>-0.051149</td>\n",
              "      <td>0.019047</td>\n",
              "      <td>0.253869</td>\n",
              "      <td>-0.262125</td>\n",
              "      <td>-0.636421</td>\n",
              "      <td>-0.020364</td>\n",
              "    </tr>\n",
              "    <tr>\n",
              "      <th>sqft_basement</th>\n",
              "      <td>-0.095690</td>\n",
              "      <td>-0.397376</td>\n",
              "      <td>1.361962</td>\n",
              "      <td>1.621744e+13</td>\n",
              "      <td>0.017927</td>\n",
              "      <td>0.368335</td>\n",
              "      <td>-0.206732</td>\n",
              "      <td>0.038768</td>\n",
              "      <td>0.080920</td>\n",
              "      <td>-0.075775</td>\n",
              "      <td>-1.462208e+13</td>\n",
              "      <td>-7.814801e+12</td>\n",
              "      <td>-0.575648</td>\n",
              "      <td>-0.043547</td>\n",
              "      <td>-0.020085</td>\n",
              "      <td>-0.070674</td>\n",
              "      <td>0.200593</td>\n",
              "      <td>0.004443</td>\n",
              "      <td>0.027012</td>\n",
              "    </tr>\n",
              "    <tr>\n",
              "      <th>yr_built</th>\n",
              "      <td>0.698363</td>\n",
              "      <td>0.197791</td>\n",
              "      <td>-0.996051</td>\n",
              "      <td>1.437350e+00</td>\n",
              "      <td>0.088652</td>\n",
              "      <td>-0.488352</td>\n",
              "      <td>-0.116940</td>\n",
              "      <td>0.074506</td>\n",
              "      <td>0.528874</td>\n",
              "      <td>-0.853468</td>\n",
              "      <td>-1.061440e+00</td>\n",
              "      <td>-5.737075e-01</td>\n",
              "      <td>2.577083</td>\n",
              "      <td>0.518786</td>\n",
              "      <td>0.316120</td>\n",
              "      <td>0.151630</td>\n",
              "      <td>-0.448084</td>\n",
              "      <td>0.049472</td>\n",
              "      <td>-0.013888</td>\n",
              "    </tr>\n",
              "    <tr>\n",
              "      <th>yr_renovated</th>\n",
              "      <td>-0.072194</td>\n",
              "      <td>0.038911</td>\n",
              "      <td>-0.253551</td>\n",
              "      <td>8.733061e-02</td>\n",
              "      <td>0.022488</td>\n",
              "      <td>-0.079893</td>\n",
              "      <td>-0.055490</td>\n",
              "      <td>-0.032265</td>\n",
              "      <td>0.210050</td>\n",
              "      <td>-0.049250</td>\n",
              "      <td>-5.015381e-02</td>\n",
              "      <td>-4.301535e-02</td>\n",
              "      <td>0.518786</td>\n",
              "      <td>1.152119</td>\n",
              "      <td>0.030723</td>\n",
              "      <td>0.062394</td>\n",
              "      <td>-0.060545</td>\n",
              "      <td>0.102111</td>\n",
              "      <td>-0.024284</td>\n",
              "    </tr>\n",
              "    <tr>\n",
              "      <th>zipcode</th>\n",
              "      <td>0.282599</td>\n",
              "      <td>0.105724</td>\n",
              "      <td>0.017406</td>\n",
              "      <td>-2.338670e-01</td>\n",
              "      <td>-0.006702</td>\n",
              "      <td>-0.173547</td>\n",
              "      <td>-0.016251</td>\n",
              "      <td>-0.171884</td>\n",
              "      <td>0.148046</td>\n",
              "      <td>-0.003473</td>\n",
              "      <td>1.962428e-02</td>\n",
              "      <td>-1.977624e-02</td>\n",
              "      <td>0.316120</td>\n",
              "      <td>0.030723</td>\n",
              "      <td>1.686153</td>\n",
              "      <td>-0.372365</td>\n",
              "      <td>0.757244</td>\n",
              "      <td>0.198773</td>\n",
              "      <td>-0.007471</td>\n",
              "    </tr>\n",
              "    <tr>\n",
              "      <th>lat</th>\n",
              "      <td>-0.757298</td>\n",
              "      <td>-0.017845</td>\n",
              "      <td>0.024402</td>\n",
              "      <td>2.622952e-01</td>\n",
              "      <td>0.064330</td>\n",
              "      <td>-0.120184</td>\n",
              "      <td>0.113878</td>\n",
              "      <td>0.202108</td>\n",
              "      <td>0.099106</td>\n",
              "      <td>-0.098281</td>\n",
              "      <td>2.541389e-01</td>\n",
              "      <td>-7.052994e-02</td>\n",
              "      <td>0.151630</td>\n",
              "      <td>0.062394</td>\n",
              "      <td>-0.372365</td>\n",
              "      <td>1.352822</td>\n",
              "      <td>-0.163311</td>\n",
              "      <td>-0.064176</td>\n",
              "      <td>0.015131</td>\n",
              "    </tr>\n",
              "    <tr>\n",
              "      <th>long</th>\n",
              "      <td>0.274458</td>\n",
              "      <td>0.042269</td>\n",
              "      <td>0.030368</td>\n",
              "      <td>-2.109596e-01</td>\n",
              "      <td>-0.137136</td>\n",
              "      <td>0.161366</td>\n",
              "      <td>-0.010247</td>\n",
              "      <td>0.041202</td>\n",
              "      <td>-0.019870</td>\n",
              "      <td>0.309540</td>\n",
              "      <td>-2.636637e-01</td>\n",
              "      <td>1.997710e-01</td>\n",
              "      <td>-0.448084</td>\n",
              "      <td>-0.060545</td>\n",
              "      <td>0.757244</td>\n",
              "      <td>-0.163311</td>\n",
              "      <td>1.848196</td>\n",
              "      <td>-0.365658</td>\n",
              "      <td>-0.153083</td>\n",
              "    </tr>\n",
              "    <tr>\n",
              "      <th>sqft_living15</th>\n",
              "      <td>-0.134692</td>\n",
              "      <td>0.013006</td>\n",
              "      <td>0.103757</td>\n",
              "      <td>-9.440270e-01</td>\n",
              "      <td>0.165894</td>\n",
              "      <td>0.273942</td>\n",
              "      <td>0.072946</td>\n",
              "      <td>-0.310742</td>\n",
              "      <td>0.082163</td>\n",
              "      <td>-0.870235</td>\n",
              "      <td>-6.294928e-01</td>\n",
              "      <td>8.146450e-03</td>\n",
              "      <td>0.049472</td>\n",
              "      <td>0.102111</td>\n",
              "      <td>0.198773</td>\n",
              "      <td>-0.064176</td>\n",
              "      <td>-0.365658</td>\n",
              "      <td>2.985160</td>\n",
              "      <td>-0.129441</td>\n",
              "    </tr>\n",
              "    <tr>\n",
              "      <th>sqft_lot15</th>\n",
              "      <td>0.094677</td>\n",
              "      <td>0.093980</td>\n",
              "      <td>0.063300</td>\n",
              "      <td>-2.149295e-01</td>\n",
              "      <td>-1.460689</td>\n",
              "      <td>0.071727</td>\n",
              "      <td>-0.031469</td>\n",
              "      <td>-0.017947</td>\n",
              "      <td>-0.032684</td>\n",
              "      <td>0.042796</td>\n",
              "      <td>-2.063520e-02</td>\n",
              "      <td>2.686703e-02</td>\n",
              "      <td>-0.013888</td>\n",
              "      <td>-0.024284</td>\n",
              "      <td>-0.007471</td>\n",
              "      <td>0.015131</td>\n",
              "      <td>-0.153083</td>\n",
              "      <td>-0.129441</td>\n",
              "      <td>2.138359</td>\n",
              "    </tr>\n",
              "  </tbody>\n",
              "</table>\n",
              "</div>"
            ],
            "text/plain": [
              "                  price  bedrooms  ...  sqft_living15  sqft_lot15\n",
              "price          3.330586  0.301852  ...      -0.134692    0.094677\n",
              "bedrooms       0.301852  1.679420  ...       0.013006    0.093980\n",
              "bathrooms     -0.287446 -0.487222  ...       0.103757    0.063300\n",
              "sqft_living   -1.052110 -0.293914  ...      -0.936343   -0.215230\n",
              "sqft_lot      -0.048219  0.044991  ...       0.165894   -1.460689\n",
              "floors        -0.032777  0.046724  ...       0.273942    0.071727\n",
              "waterfront    -0.457309  0.021789  ...       0.072946   -0.031469\n",
              "view          -0.367765  0.080781  ...      -0.310742   -0.017947\n",
              "condition     -0.155831 -0.064890  ...       0.082163   -0.032684\n",
              "grade         -1.022917  0.214341  ...      -0.870235    0.042796\n",
              "sqft_above    -0.412835 -0.733542  ...      -0.636421   -0.020364\n",
              "sqft_basement -0.095690 -0.397376  ...       0.004443    0.027012\n",
              "yr_built       0.698363  0.197791  ...       0.049472   -0.013888\n",
              "yr_renovated  -0.072194  0.038911  ...       0.102111   -0.024284\n",
              "zipcode        0.282599  0.105724  ...       0.198773   -0.007471\n",
              "lat           -0.757298 -0.017845  ...      -0.064176    0.015131\n",
              "long           0.274458  0.042269  ...      -0.365658   -0.153083\n",
              "sqft_living15 -0.134692  0.013006  ...       2.985160   -0.129441\n",
              "sqft_lot15     0.094677  0.093980  ...      -0.129441    2.138359\n",
              "\n",
              "[19 rows x 19 columns]"
            ]
          },
          "metadata": {
            "tags": []
          },
          "execution_count": 0
        }
      ]
    },
    {
      "cell_type": "code",
      "metadata": {
        "colab": {
          "base_uri": "https://localhost:8080/",
          "height": 545
        },
        "id": "n2_KWOz7Q9nz",
        "outputId": "019d4e62-656c-4e06-fe2f-b30b3b945c0b"
      },
      "source": [
        "# VIF scores should start from 1 and anything beyond 5 shows high multicollinearity.\n",
        "# sqft_living, sqft_above and sqft_basement have negative values, hence need to be removed from the test.\n",
        "\n",
        "mlreg_house = house.drop(columns=['sqft_living', 'sqft_above', 'sqft_basement'])\n",
        "new_house_corr = mlreg_house.corr()\n",
        "\n",
        "pd.DataFrame(np.linalg.inv(new_house_corr.values), index = new_house_corr.index, \n",
        "             columns=new_house_corr.columns)\n",
        "\n",
        "# We can notice that after removing those features, the VIF scores of the other features and\n",
        "# especially our target variable decreased, approaching 1 (which is the point at which there is no correlation at all).\n"
      ],
      "execution_count": 37,
      "outputs": [
        {
          "output_type": "execute_result",
          "data": {
            "text/html": [
              "<div>\n",
              "<style scoped>\n",
              "    .dataframe tbody tr th:only-of-type {\n",
              "        vertical-align: middle;\n",
              "    }\n",
              "\n",
              "    .dataframe tbody tr th {\n",
              "        vertical-align: top;\n",
              "    }\n",
              "\n",
              "    .dataframe thead th {\n",
              "        text-align: right;\n",
              "    }\n",
              "</style>\n",
              "<table border=\"1\" class=\"dataframe\">\n",
              "  <thead>\n",
              "    <tr style=\"text-align: right;\">\n",
              "      <th></th>\n",
              "      <th>price</th>\n",
              "      <th>bedrooms</th>\n",
              "      <th>bathrooms</th>\n",
              "      <th>sqft_lot</th>\n",
              "      <th>floors</th>\n",
              "      <th>waterfront</th>\n",
              "      <th>view</th>\n",
              "      <th>condition</th>\n",
              "      <th>grade</th>\n",
              "      <th>yr_built</th>\n",
              "      <th>yr_renovated</th>\n",
              "      <th>zipcode</th>\n",
              "      <th>lat</th>\n",
              "      <th>long</th>\n",
              "      <th>sqft_living15</th>\n",
              "      <th>sqft_lot15</th>\n",
              "    </tr>\n",
              "  </thead>\n",
              "  <tbody>\n",
              "    <tr>\n",
              "      <th>price</th>\n",
              "      <td>2.965985</td>\n",
              "      <td>0.022224</td>\n",
              "      <td>-0.661931</td>\n",
              "      <td>-0.090582</td>\n",
              "      <td>-0.058633</td>\n",
              "      <td>-0.431483</td>\n",
              "      <td>-0.351414</td>\n",
              "      <td>-0.139270</td>\n",
              "      <td>-1.313528</td>\n",
              "      <td>0.763069</td>\n",
              "      <td>-0.066250</td>\n",
              "      <td>0.225363</td>\n",
              "      <td>-0.646223</td>\n",
              "      <td>0.190570</td>\n",
              "      <td>-0.504934</td>\n",
              "      <td>0.039548</td>\n",
              "    </tr>\n",
              "    <tr>\n",
              "      <th>bedrooms</th>\n",
              "      <td>0.022224</td>\n",
              "      <td>1.459711</td>\n",
              "      <td>-0.802361</td>\n",
              "      <td>0.014973</td>\n",
              "      <td>0.072296</td>\n",
              "      <td>0.044082</td>\n",
              "      <td>0.078489</td>\n",
              "      <td>-0.058799</td>\n",
              "      <td>0.003709</td>\n",
              "      <td>0.248235</td>\n",
              "      <td>0.042734</td>\n",
              "      <td>0.059238</td>\n",
              "      <td>0.058608</td>\n",
              "      <td>-0.005877</td>\n",
              "      <td>-0.259649</td>\n",
              "      <td>0.052686</td>\n",
              "    </tr>\n",
              "    <tr>\n",
              "      <th>bathrooms</th>\n",
              "      <td>-0.661931</td>\n",
              "      <td>-0.802361</td>\n",
              "      <td>2.842390</td>\n",
              "      <td>-0.050328</td>\n",
              "      <td>-0.457293</td>\n",
              "      <td>0.088981</td>\n",
              "      <td>-0.072007</td>\n",
              "      <td>-0.141727</td>\n",
              "      <td>-0.413052</td>\n",
              "      <td>-0.925240</td>\n",
              "      <td>-0.251359</td>\n",
              "      <td>-0.055153</td>\n",
              "      <td>0.092025</td>\n",
              "      <td>0.030331</td>\n",
              "      <td>-0.216418</td>\n",
              "      <td>0.011924</td>\n",
              "    </tr>\n",
              "    <tr>\n",
              "      <th>sqft_lot</th>\n",
              "      <td>-0.090582</td>\n",
              "      <td>0.014973</td>\n",
              "      <td>-0.050328</td>\n",
              "      <td>2.097134</td>\n",
              "      <td>0.021360</td>\n",
              "      <td>0.035761</td>\n",
              "      <td>-0.044791</td>\n",
              "      <td>0.037853</td>\n",
              "      <td>-0.078574</td>\n",
              "      <td>0.095785</td>\n",
              "      <td>0.023525</td>\n",
              "      <td>-0.012133</td>\n",
              "      <td>0.081347</td>\n",
              "      <td>-0.154504</td>\n",
              "      <td>0.117557</td>\n",
              "      <td>-1.467559</td>\n",
              "    </tr>\n",
              "    <tr>\n",
              "      <th>floors</th>\n",
              "      <td>-0.058633</td>\n",
              "      <td>0.072296</td>\n",
              "      <td>-0.457293</td>\n",
              "      <td>0.021360</td>\n",
              "      <td>1.617813</td>\n",
              "      <td>-0.020450</td>\n",
              "      <td>0.092400</td>\n",
              "      <td>0.149543</td>\n",
              "      <td>-0.347313</td>\n",
              "      <td>-0.490835</td>\n",
              "      <td>-0.073110</td>\n",
              "      <td>-0.155220</td>\n",
              "      <td>-0.036779</td>\n",
              "      <td>0.015420</td>\n",
              "      <td>0.149985</td>\n",
              "      <td>0.059289</td>\n",
              "    </tr>\n",
              "    <tr>\n",
              "      <th>waterfront</th>\n",
              "      <td>-0.431483</td>\n",
              "      <td>0.044082</td>\n",
              "      <td>0.088981</td>\n",
              "      <td>0.035761</td>\n",
              "      <td>-0.020450</td>\n",
              "      <td>1.263550</td>\n",
              "      <td>-0.436183</td>\n",
              "      <td>0.010684</td>\n",
              "      <td>0.204477</td>\n",
              "      <td>-0.121910</td>\n",
              "      <td>-0.055563</td>\n",
              "      <td>-0.010971</td>\n",
              "      <td>0.110146</td>\n",
              "      <td>-0.011972</td>\n",
              "      <td>0.093820</td>\n",
              "      <td>-0.028032</td>\n",
              "    </tr>\n",
              "    <tr>\n",
              "      <th>view</th>\n",
              "      <td>-0.351414</td>\n",
              "      <td>0.078489</td>\n",
              "      <td>-0.072007</td>\n",
              "      <td>-0.044791</td>\n",
              "      <td>0.092400</td>\n",
              "      <td>-0.436183</td>\n",
              "      <td>1.433140</td>\n",
              "      <td>-0.023684</td>\n",
              "      <td>-0.024651</td>\n",
              "      <td>0.073915</td>\n",
              "      <td>-0.034609</td>\n",
              "      <td>-0.176630</td>\n",
              "      <td>0.172453</td>\n",
              "      <td>0.090698</td>\n",
              "      <td>-0.262221</td>\n",
              "      <td>-0.012689</td>\n",
              "    </tr>\n",
              "    <tr>\n",
              "      <th>condition</th>\n",
              "      <td>-0.139270</td>\n",
              "      <td>-0.058799</td>\n",
              "      <td>-0.141727</td>\n",
              "      <td>0.037853</td>\n",
              "      <td>0.149543</td>\n",
              "      <td>0.010684</td>\n",
              "      <td>-0.023684</td>\n",
              "      <td>1.247691</td>\n",
              "      <td>0.022029</td>\n",
              "      <td>0.526965</td>\n",
              "      <td>0.208854</td>\n",
              "      <td>0.147386</td>\n",
              "      <td>0.083063</td>\n",
              "      <td>0.004325</td>\n",
              "      <td>0.113206</td>\n",
              "      <td>-0.028938</td>\n",
              "    </tr>\n",
              "    <tr>\n",
              "      <th>grade</th>\n",
              "      <td>-1.313528</td>\n",
              "      <td>0.003709</td>\n",
              "      <td>-0.413052</td>\n",
              "      <td>-0.078574</td>\n",
              "      <td>-0.347313</td>\n",
              "      <td>0.204477</td>\n",
              "      <td>-0.024651</td>\n",
              "      <td>0.022029</td>\n",
              "      <td>3.470999</td>\n",
              "      <td>-0.803800</td>\n",
              "      <td>-0.042795</td>\n",
              "      <td>-0.043054</td>\n",
              "      <td>0.010631</td>\n",
              "      <td>0.204905</td>\n",
              "      <td>-1.191702</td>\n",
              "      <td>-0.003446</td>\n",
              "    </tr>\n",
              "    <tr>\n",
              "      <th>yr_built</th>\n",
              "      <td>0.763069</td>\n",
              "      <td>0.248235</td>\n",
              "      <td>-0.925240</td>\n",
              "      <td>0.095785</td>\n",
              "      <td>-0.490835</td>\n",
              "      <td>-0.121910</td>\n",
              "      <td>0.073915</td>\n",
              "      <td>0.526965</td>\n",
              "      <td>-0.803800</td>\n",
              "      <td>2.565472</td>\n",
              "      <td>0.517846</td>\n",
              "      <td>0.326681</td>\n",
              "      <td>0.133278</td>\n",
              "      <td>-0.435719</td>\n",
              "      <td>0.113420</td>\n",
              "      <td>-0.004258</td>\n",
              "    </tr>\n",
              "    <tr>\n",
              "      <th>yr_renovated</th>\n",
              "      <td>-0.066250</td>\n",
              "      <td>0.042734</td>\n",
              "      <td>-0.251359</td>\n",
              "      <td>0.023525</td>\n",
              "      <td>-0.073110</td>\n",
              "      <td>-0.055563</td>\n",
              "      <td>-0.034609</td>\n",
              "      <td>0.208854</td>\n",
              "      <td>-0.042795</td>\n",
              "      <td>0.517846</td>\n",
              "      <td>1.151919</td>\n",
              "      <td>0.031293</td>\n",
              "      <td>0.059359</td>\n",
              "      <td>-0.056909</td>\n",
              "      <td>0.109730</td>\n",
              "      <td>-0.023247</td>\n",
              "    </tr>\n",
              "    <tr>\n",
              "      <th>zipcode</th>\n",
              "      <td>0.225363</td>\n",
              "      <td>0.059238</td>\n",
              "      <td>-0.055153</td>\n",
              "      <td>-0.012133</td>\n",
              "      <td>-0.155220</td>\n",
              "      <td>-0.010971</td>\n",
              "      <td>-0.176630</td>\n",
              "      <td>0.147386</td>\n",
              "      <td>-0.043054</td>\n",
              "      <td>0.326681</td>\n",
              "      <td>0.031293</td>\n",
              "      <td>1.675891</td>\n",
              "      <td>-0.359235</td>\n",
              "      <td>0.752058</td>\n",
              "      <td>0.146223</td>\n",
              "      <td>-0.015639</td>\n",
              "    </tr>\n",
              "    <tr>\n",
              "      <th>lat</th>\n",
              "      <td>-0.646223</td>\n",
              "      <td>0.058608</td>\n",
              "      <td>0.092025</td>\n",
              "      <td>0.081347</td>\n",
              "      <td>-0.036779</td>\n",
              "      <td>0.110146</td>\n",
              "      <td>0.172453</td>\n",
              "      <td>0.083063</td>\n",
              "      <td>0.010631</td>\n",
              "      <td>0.133278</td>\n",
              "      <td>0.059359</td>\n",
              "      <td>-0.359235</td>\n",
              "      <td>1.304453</td>\n",
              "      <td>-0.110821</td>\n",
              "      <td>0.067414</td>\n",
              "      <td>0.033567</td>\n",
              "    </tr>\n",
              "    <tr>\n",
              "      <th>long</th>\n",
              "      <td>0.190570</td>\n",
              "      <td>-0.005877</td>\n",
              "      <td>0.030331</td>\n",
              "      <td>-0.154504</td>\n",
              "      <td>0.015420</td>\n",
              "      <td>-0.011972</td>\n",
              "      <td>0.090698</td>\n",
              "      <td>0.004325</td>\n",
              "      <td>0.204905</td>\n",
              "      <td>-0.435719</td>\n",
              "      <td>-0.056909</td>\n",
              "      <td>0.752058</td>\n",
              "      <td>-0.110821</td>\n",
              "      <td>1.778971</td>\n",
              "      <td>-0.485684</td>\n",
              "      <td>-0.168809</td>\n",
              "    </tr>\n",
              "    <tr>\n",
              "      <th>sqft_living15</th>\n",
              "      <td>-0.504934</td>\n",
              "      <td>-0.259649</td>\n",
              "      <td>-0.216418</td>\n",
              "      <td>0.117557</td>\n",
              "      <td>0.149985</td>\n",
              "      <td>0.093820</td>\n",
              "      <td>-0.262221</td>\n",
              "      <td>0.113206</td>\n",
              "      <td>-1.191702</td>\n",
              "      <td>0.113420</td>\n",
              "      <td>0.109730</td>\n",
              "      <td>0.146223</td>\n",
              "      <td>0.067414</td>\n",
              "      <td>-0.485684</td>\n",
              "      <td>2.584875</td>\n",
              "      <td>-0.187545</td>\n",
              "    </tr>\n",
              "    <tr>\n",
              "      <th>sqft_lot15</th>\n",
              "      <td>0.039548</td>\n",
              "      <td>0.052686</td>\n",
              "      <td>0.011924</td>\n",
              "      <td>-1.467559</td>\n",
              "      <td>0.059289</td>\n",
              "      <td>-0.028032</td>\n",
              "      <td>-0.012689</td>\n",
              "      <td>-0.028938</td>\n",
              "      <td>-0.003446</td>\n",
              "      <td>-0.004258</td>\n",
              "      <td>-0.023247</td>\n",
              "      <td>-0.015639</td>\n",
              "      <td>0.033567</td>\n",
              "      <td>-0.168809</td>\n",
              "      <td>-0.187545</td>\n",
              "      <td>2.129839</td>\n",
              "    </tr>\n",
              "  </tbody>\n",
              "</table>\n",
              "</div>"
            ],
            "text/plain": [
              "                  price  bedrooms  ...  sqft_living15  sqft_lot15\n",
              "price          2.965985  0.022224  ...      -0.504934    0.039548\n",
              "bedrooms       0.022224  1.459711  ...      -0.259649    0.052686\n",
              "bathrooms     -0.661931 -0.802361  ...      -0.216418    0.011924\n",
              "sqft_lot      -0.090582  0.014973  ...       0.117557   -1.467559\n",
              "floors        -0.058633  0.072296  ...       0.149985    0.059289\n",
              "waterfront    -0.431483  0.044082  ...       0.093820   -0.028032\n",
              "view          -0.351414  0.078489  ...      -0.262221   -0.012689\n",
              "condition     -0.139270 -0.058799  ...       0.113206   -0.028938\n",
              "grade         -1.313528  0.003709  ...      -1.191702   -0.003446\n",
              "yr_built       0.763069  0.248235  ...       0.113420   -0.004258\n",
              "yr_renovated  -0.066250  0.042734  ...       0.109730   -0.023247\n",
              "zipcode        0.225363  0.059238  ...       0.146223   -0.015639\n",
              "lat           -0.646223  0.058608  ...       0.067414    0.033567\n",
              "long           0.190570 -0.005877  ...      -0.485684   -0.168809\n",
              "sqft_living15 -0.504934 -0.259649  ...       2.584875   -0.187545\n",
              "sqft_lot15     0.039548  0.052686  ...      -0.187545    2.129839\n",
              "\n",
              "[16 rows x 16 columns]"
            ]
          },
          "metadata": {
            "tags": []
          },
          "execution_count": 0
        }
      ]
    },
    {
      "cell_type": "markdown",
      "metadata": {
        "id": "XYM8VzkGXMFG"
      },
      "source": [
        "### Building the Model"
      ]
    },
    {
      "cell_type": "code",
      "metadata": {
        "colab": {
          "base_uri": "https://localhost:8080/",
          "height": 444
        },
        "id": "unm9YLcZWcnR",
        "outputId": "46f30525-c4a0-4e8e-b115-3946da88a074"
      },
      "source": [
        "# redefining the new features\n",
        "\n",
        "X_new = mlreg_house.drop(columns= ['price'])\n",
        "y_new = mlreg_house.price\n",
        "\n",
        "X_train_new, X_test_new, y_train_new, y_test_new = train_test_split(X_new,y_new, test_size= 0.3, random_state= 10)\n",
        "\n",
        "X_train_mlreg = X_train_new.copy(deep=True)\n",
        "X_test_mlreg = X_test_new.copy(deep=True)\n",
        "y_train_mlreg = y_train_new.copy(deep=True)\n",
        "y_test_mlreg = y_test_new.copy(deep=True)\n",
        "\n",
        "ml_regressor = LinearRegression()\n",
        "ml_regressor.fit(X_train_mlreg,y_train_mlreg)\n",
        "\n",
        "coeff_ml_regressor = pd.DataFrame(ml_regressor.coef_, X_new.columns, columns=['Coefficient'])\n",
        "coeff_ml_regressor.plot(kind='barh', figsize=(20,7))\n",
        "plt.title('Multiple Regression Base-line Model')\n",
        "plt.axvline(x=0, color='.2')\n",
        "plt.subplots_adjust(left=.5)\n",
        "\n",
        "# The below means that a unit increase in waterfront leads to the highest increase in price\n",
        "# and a unit increase in longitude leads to the highest decrease in price."
      ],
      "execution_count": 38,
      "outputs": [
        {
          "output_type": "display_data",
          "data": {
            "image/png": "[encoded data removed]",
            "text/plain": [
              "<Figure size 1440x504 with 1 Axes>"
            ]
          },
          "metadata": {
            "tags": []
          }
        }
      ]
    },
    {
      "cell_type": "code",
      "metadata": {
        "colab": {
          "base_uri": "https://localhost:8080/",
          "height": 307
        },
        "id": "DabVdeBzYsQG",
        "outputId": "64d341c0-a15f-4788-cadc-ad0e74d61880"
      },
      "source": [
        "# Making Predictions\n",
        "\n",
        "y_pred_mlreg = ml_regressor.predict(X_test_mlreg)\n",
        "\n",
        "df_mlreg = pd.DataFrame({'Actual': y_test_mlreg, 'Predicted': y_pred_mlreg})\n",
        "\n",
        "sns.regplot(df_mlreg.Actual, df_mlreg.Predicted)"
      ],
      "execution_count": 39,
      "outputs": [
        {
          "output_type": "execute_result",
          "data": {
            "text/plain": [
              "<matplotlib.axes._subplots.AxesSubplot at 0x7ff1c06487f0>"
            ]
          },
          "metadata": {
            "tags": []
          },
          "execution_count": 0
        },
        {
          "output_type": "display_data",
          "data": {
            "image/png": "[encoded data removed]",
            "text/plain": [
              "<Figure size 432x288 with 1 Axes>"
            ]
          },
          "metadata": {
            "tags": []
          }
        }
      ]
    },
    {
      "cell_type": "code",
      "metadata": {
        "colab": {
          "base_uri": "https://localhost:8080/"
        },
        "id": "_xwh-nytdqVZ",
        "outputId": "310b54d8-23f3-4bd7-e47c-b037e76d64fc"
      },
      "source": [
        "# From the above, the predictions seem to be okay for most of the data, except the extreme outliers \n",
        "# of the most expensive houses.\n",
        "\n",
        "# Evaluating the Algorithm\n",
        "\n",
        "mae_mlreg = metrics.mean_absolute_error(y_test_mlreg, y_pred_mlreg)\n",
        "mse_mlreg = metrics.mean_squared_error(y_test_mlreg, y_pred_mlreg)\n",
        "rmse_mlreg = np.sqrt(metrics.mean_squared_error(y_test_mlreg, y_pred_mlreg))\n",
        "\n",
        "ratio_mlreg = (rmse_mlreg / mlreg_house.price.mean()) * 100\n",
        "\n",
        "r2_score_mlreg = r2_score(y_test_mlreg, y_pred_mlreg)\n",
        "\n",
        "print('Mean Absolute Error:', mae_mlreg)\n",
        "print('Mean Squared Error:', mse_mlreg)\n",
        "print('Root Mean Squared Error:', rmse_mlreg)\n",
        "print('Percentage of RMSE to mean is: ' +str(ratio_mlreg) + ' %')\n",
        "print('R score:', r2_score_mlreg)"
      ],
      "execution_count": 40,
      "outputs": [
        {
          "output_type": "stream",
          "text": [
            "Mean Absolute Error: 128769.73618292823\n",
            "Mean Squared Error: 46523147831.04149\n",
            "Root Mean Squared Error: 215692.2525985611\n",
            "Percentage of RMSE to mean is: 39.929540264784634 %\n",
            "R score: 0.663090799912305\n"
          ],
          "name": "stdout"
        }
      ]
    },
    {
      "cell_type": "markdown",
      "metadata": {
        "id": "MqKmE-M2g2o2"
      },
      "source": [
        "### Multiple Linear Regression Model Recommendation\n",
        "\n",
        "This will be the basis to compare the baseline models of the other regression models. This model is not very accurate because the Percentage of RMSE to mean is 39%. It still made reasonably good predictions as can be seen in the plot above sice the R-score was not below the wildly used cut-off point of 0.60 for a bad model. This inaccuracy could have been caused by:\n",
        "1. The factor that the data does not follow a normal distribution (as we had seen in the Analysis section)\n",
        "2. Poor features, i.e., the features we used may not have had a high enough correlation to the values we were trying to predict."
      ]
    },
    {
      "cell_type": "markdown",
      "metadata": {
        "id": "QTkhfcGOhxR3"
      },
      "source": [
        "## RIDGE REGRESSION"
      ]
    },
    {
      "cell_type": "markdown",
      "metadata": {
        "id": "iDoZIsiHi5O3"
      },
      "source": [
        "### Building Non-Normalized Model"
      ]
    },
    {
      "cell_type": "code",
      "metadata": {
        "colab": {
          "base_uri": "https://localhost:8080/",
          "height": 444
        },
        "id": "8sKRlRElfFqR",
        "outputId": "d7e453a4-9d67-4651-ca50-e23c0a52a184"
      },
      "source": [
        "X_train_ridge = X_train.copy(deep=True)\n",
        "X_test_ridge = X_test.copy(deep=True)\n",
        "y_train_ridge = y_train.copy(deep=True)\n",
        "y_test_ridge = y_test.copy(deep=True)\n",
        "\n",
        "ridge_regressor = Ridge()\n",
        "ridge_regressor.fit(X_train_ridge,y_train_ridge)\n",
        "\n",
        "coeff_ridge = pd.DataFrame(ridge_regressor.coef_, X.columns, columns=['Coefficient'])\n",
        "coeff_ridge.plot(kind='barh', figsize=(20,7))\n",
        "plt.title('Ridge Regression Base-line Model')\n",
        "plt.axvline(x=0, color='.2')\n",
        "plt.subplots_adjust(left=.5)\n",
        "\n",
        "# without normalization, the results are different to the Multiple Linear Regression Model\n",
        "# latitude now seems to have more weight"
      ],
      "execution_count": 41,
      "outputs": [
        {
          "output_type": "display_data",
          "data": {
            "image/png": "[encoded data removed]",
            "text/plain": [
              "<Figure size 1440x504 with 1 Axes>"
            ]
          },
          "metadata": {
            "tags": []
          }
        }
      ]
    },
    {
      "cell_type": "code",
      "metadata": {
        "colab": {
          "base_uri": "https://localhost:8080/",
          "height": 307
        },
        "id": "3teQWDtbeub3",
        "outputId": "a89e19a3-56bd-470a-fc6b-e9ace0ce2142"
      },
      "source": [
        "# Making Predictions\n",
        "\n",
        "y_pred_ridge = ridge_regressor.predict(X_test_ridge)\n",
        "\n",
        "df_ridge = pd.DataFrame({'Actual': y_test_ridge, 'Predicted': y_pred_ridge})\n",
        "\n",
        "sns.regplot(df_ridge.Actual, df_ridge.Predicted)"
      ],
      "execution_count": 42,
      "outputs": [
        {
          "output_type": "execute_result",
          "data": {
            "text/plain": [
              "<matplotlib.axes._subplots.AxesSubplot at 0x7ff1ba751630>"
            ]
          },
          "metadata": {
            "tags": []
          },
          "execution_count": 0
        },
        {
          "output_type": "display_data",
          "data": {
            "image/png": "[encoded data removed]",
            "text/plain": [
              "<Figure size 432x288 with 1 Axes>"
            ]
          },
          "metadata": {
            "tags": []
          }
        }
      ]
    },
    {
      "cell_type": "code",
      "metadata": {
        "colab": {
          "base_uri": "https://localhost:8080/"
        },
        "id": "8_gUWM8Smr98",
        "outputId": "a18108b3-53a4-40b0-ca22-58b9d3274507"
      },
      "source": [
        "# From the above, the predictions seem to be similar to the Multiple Linear Regression Model.\n",
        "\n",
        "# Evaluating the Algorithm\n",
        "\n",
        "mae_ridge = metrics.mean_absolute_error(y_test_ridge, y_pred_ridge)\n",
        "mse_ridge = metrics.mean_squared_error(y_test_ridge, y_pred_ridge)\n",
        "rmse_ridge = np.sqrt(metrics.mean_squared_error(y_test_ridge, y_pred_ridge))\n",
        "\n",
        "ratio_ridge = (rmse_ridge / house.price.mean()) * 100\n",
        "\n",
        "r2_score_ridge = r2_score(y_test_ridge, y_pred_ridge)\n",
        "\n",
        "print('Mean Absolute Error:', mae_ridge)\n",
        "print('Mean Squared Error:', mse_ridge)\n",
        "print('Root Mean Squared Error:', rmse_ridge)\n",
        "print('Percentage of RMSE to mean is: ' +str(ratio_ridge) + ' %')\n",
        "print('R score:', r2_score_ridge)\n",
        "\n",
        "# This model is not very accurate because the Percentage of RMSE to mean is 37%, \n",
        "# but is better than the Multiple Linear Model\n",
        "# R Score is also better than that of the Multiple Linear Regression Model."
      ],
      "execution_count": 43,
      "outputs": [
        {
          "output_type": "stream",
          "text": [
            "Mean Absolute Error: 123069.86794199176\n",
            "Mean Squared Error: 40081120264.11176\n",
            "Root Mean Squared Error: 200202.69794413802\n",
            "Percentage of RMSE to mean is: 37.0620715040569 %\n",
            "R score: 0.7097423799472449\n"
          ],
          "name": "stdout"
        }
      ]
    },
    {
      "cell_type": "markdown",
      "metadata": {
        "id": "Vw4GWwI7nsCj"
      },
      "source": [
        "### Building Normalized Model"
      ]
    },
    {
      "cell_type": "code",
      "metadata": {
        "colab": {
          "base_uri": "https://localhost:8080/",
          "height": 444
        },
        "id": "OZ1M3rqcnZCY",
        "outputId": "47b3a9b7-7259-4c46-e759-5136d1a87699"
      },
      "source": [
        "X_train_Ridge = X_train.copy(deep=True)\n",
        "X_test_Ridge = X_test.copy(deep=True)\n",
        "y_train_Ridge = y_train.copy(deep=True)\n",
        "y_test_Ridge = y_test.copy(deep=True)\n",
        "\n",
        "Ridge_regressor = Ridge(normalize=True)\n",
        "Ridge_regressor.fit(X_train_Ridge,y_train_Ridge)\n",
        "\n",
        "coeff_Ridge = pd.DataFrame(Ridge_regressor.coef_, X.columns, columns=['Coefficient'])\n",
        "coeff_Ridge.plot(kind='barh', figsize=(20,7))\n",
        "plt.title('Ridge Regression Normalized Base-line Model')\n",
        "plt.axvline(x=0, color='.2')\n",
        "plt.subplots_adjust(left=.5)\n",
        "\n",
        "# This model has some differences as can be seen in the bedrooms, bathrooms and floors coefficents\n",
        "# as compared to the non-normalized model.\n",
        "# Furthermore, the waterfront coefficient seems to now have a similar effect to the price as the\n",
        "# latitude coefficient."
      ],
      "execution_count": 44,
      "outputs": [
        {
          "output_type": "display_data",
          "data": {
            "image/png": "[encoded data removed]",
            "text/plain": [
              "<Figure size 1440x504 with 1 Axes>"
            ]
          },
          "metadata": {
            "tags": []
          }
        }
      ]
    },
    {
      "cell_type": "code",
      "metadata": {
        "colab": {
          "base_uri": "https://localhost:8080/",
          "height": 307
        },
        "id": "JJ4BGYM1oHMo",
        "outputId": "1a3ab207-8e45-4c98-de53-45180c587a5a"
      },
      "source": [
        "# Making Predictions\n",
        "\n",
        "y_pred_Ridge = Ridge_regressor.predict(X_test_Ridge)\n",
        "\n",
        "df_Ridge = pd.DataFrame({'Actual': y_test_Ridge, 'Predicted': y_pred_Ridge})\n",
        "\n",
        "sns.regplot(df_Ridge.Actual, df_Ridge.Predicted)\n"
      ],
      "execution_count": 45,
      "outputs": [
        {
          "output_type": "execute_result",
          "data": {
            "text/plain": [
              "<matplotlib.axes._subplots.AxesSubplot at 0x7ff1ba7cada0>"
            ]
          },
          "metadata": {
            "tags": []
          },
          "execution_count": 0
        },
        {
          "output_type": "display_data",
          "data": {
            "image/png": "[encoded data removed]",
            "text/plain": [
              "<Figure size 432x288 with 1 Axes>"
            ]
          },
          "metadata": {
            "tags": []
          }
        }
      ]
    },
    {
      "cell_type": "code",
      "metadata": {
        "colab": {
          "base_uri": "https://localhost:8080/"
        },
        "id": "jP_YC3Zmo1X9",
        "outputId": "d42daf4d-ed44-4341-a1a4-a631dedccdad"
      },
      "source": [
        "# The predictions though, still seem to be similar to the previous 2 models.\n",
        "\n",
        "# Evaluating the Algorithm\n",
        "\n",
        "mae_Ridge = metrics.mean_absolute_error(y_test_Ridge, y_pred_Ridge)\n",
        "mse_Ridge = metrics.mean_squared_error(y_test_Ridge, y_pred_Ridge)\n",
        "rmse_Ridge = np.sqrt(metrics.mean_squared_error(y_test_Ridge, y_pred_Ridge))\n",
        "\n",
        "ratio_Ridge = (rmse_Ridge / house.price.mean()) * 100\n",
        "\n",
        "r2_score_Ridge = r2_score(y_test_Ridge, y_pred_Ridge)\n",
        "\n",
        "print('Mean Absolute Error:', mae_Ridge)\n",
        "print('Mean Squared Error:', mse_Ridge)\n",
        "print('Root Mean Squared Error:', rmse_Ridge)\n",
        "print('Percentage of RMSE to mean is: ' +str(ratio_Ridge) + ' %')\n",
        "print('R score:', r2_score_Ridge)\n",
        "\n",
        "# The RSME and The R score are worse than the first 2 models."
      ],
      "execution_count": 46,
      "outputs": [
        {
          "output_type": "stream",
          "text": [
            "Mean Absolute Error: 130468.2760171499\n",
            "Mean Squared Error: 51309876931.98804\n",
            "Root Mean Squared Error: 226516.83586874517\n",
            "Percentage of RMSE to mean is: 41.933416752368835 %\n",
            "R score: 0.6284264844559815\n"
          ],
          "name": "stdout"
        }
      ]
    },
    {
      "cell_type": "markdown",
      "metadata": {
        "id": "Aa_O7tAopgsy"
      },
      "source": [
        "### Ridge Regression Recommendation\n",
        "\n",
        "The non-normalized Ridge regression model performed the best so far, however, when normlizing the data, in order to carry out proper predictions, the results are the worst so far. In addition, RMSE tells you how concentrated the data is around the line of best fit, as it describe how far spread out the residuals are. A higher RMSE percentage compared to the mean (typically more than 10%) means the model is not very accurate. For Ridge, Lasso and Elastic Net Regression Models, since they do not assume data is normal, unlike Multiple Linear Regression, this high RMSE could be explained by possible poor features, i.e., the features we used may not have had a high enough correlation to the values we were trying to predict."
      ]
    },
    {
      "cell_type": "markdown",
      "metadata": {
        "id": "WsFkWulJp6pQ"
      },
      "source": [
        "## LASSO REGRESSION"
      ]
    },
    {
      "cell_type": "markdown",
      "metadata": {
        "id": "oriIlbQsrin5"
      },
      "source": [
        "### Building Non-Normalized Model"
      ]
    },
    {
      "cell_type": "code",
      "metadata": {
        "colab": {
          "base_uri": "https://localhost:8080/",
          "height": 444
        },
        "id": "hj4l1gPBpYhu",
        "outputId": "fef42c01-1988-44cf-f4b5-11747eaa5b28"
      },
      "source": [
        "X_train_lasso = X_train.copy(deep=True)\n",
        "X_test_lasso = X_test.copy(deep=True)\n",
        "y_train_lasso = y_train.copy(deep=True)\n",
        "y_test_lasso = y_test.copy(deep=True)\n",
        "\n",
        "lasso_regressor = Lasso()\n",
        "lasso_regressor.fit(X_train_lasso,y_train_lasso)\n",
        "\n",
        "coeff_lasso = pd.DataFrame(lasso_regressor.coef_, X.columns, columns=['Coefficient'])\n",
        "coeff_lasso.plot(kind='barh', figsize=(20,7))\n",
        "plt.title('Lasso Regression Base-line Model')\n",
        "plt.axvline(x=0, color='.2')\n",
        "plt.subplots_adjust(left=.5)\n",
        "\n",
        "# We can see differences in yr_built and bathrooms from the Ridge Models."
      ],
      "execution_count": 47,
      "outputs": [
        {
          "output_type": "display_data",
          "data": {
            "image/png": "[encoded data removed]",
            "text/plain": [
              "<Figure size 1440x504 with 1 Axes>"
            ]
          },
          "metadata": {
            "tags": []
          }
        }
      ]
    },
    {
      "cell_type": "code",
      "metadata": {
        "colab": {
          "base_uri": "https://localhost:8080/",
          "height": 307
        },
        "id": "u0t6oWphsD8V",
        "outputId": "5bf95628-12d0-4571-c341-1f48905ef39e"
      },
      "source": [
        "# Making Predictions\n",
        "\n",
        "y_pred_lasso = lasso_regressor.predict(X_test_lasso)\n",
        "\n",
        "df_lasso = pd.DataFrame({'Actual': y_test_lasso, 'Predicted': y_pred_lasso})\n",
        "\n",
        "sns.regplot(df_lasso.Actual, df_lasso.Predicted)"
      ],
      "execution_count": 48,
      "outputs": [
        {
          "output_type": "execute_result",
          "data": {
            "text/plain": [
              "<matplotlib.axes._subplots.AxesSubplot at 0x7ff1ba460780>"
            ]
          },
          "metadata": {
            "tags": []
          },
          "execution_count": 0
        },
        {
          "output_type": "display_data",
          "data": {
            "image/png": "[encoded data removed]",
            "text/plain": [
              "<Figure size 432x288 with 1 Axes>"
            ]
          },
          "metadata": {
            "tags": []
          }
        }
      ]
    },
    {
      "cell_type": "code",
      "metadata": {
        "colab": {
          "base_uri": "https://localhost:8080/"
        },
        "id": "rkNSW2pJs8bJ",
        "outputId": "64a84564-90ed-4313-cadc-2bf32ad4f60c"
      },
      "source": [
        "# The predictions though, still seem to be similar to the previous 3 models.\n",
        "\n",
        "# Evaluating the Algorithm\n",
        "\n",
        "mae_lasso = metrics.mean_absolute_error(y_test_lasso, y_pred_lasso)\n",
        "mse_lasso = metrics.mean_squared_error(y_test_lasso, y_pred_lasso)\n",
        "rmse_lasso = np.sqrt(metrics.mean_squared_error(y_test_lasso, y_pred_lasso))\n",
        "\n",
        "ratio_lasso = (rmse_lasso / house.price.mean()) * 100\n",
        "r2_score_lasso = r2_score(y_test_lasso, y_pred_lasso)\n",
        "\n",
        "print('Mean Absolute Error:', mae_lasso)\n",
        "print('Mean Squared Error:', mse_lasso)\n",
        "print('Root Mean Squared Error:', rmse_lasso)\n",
        "print('Percentage of RMSE to mean is: ' +str(ratio_lasso) + ' %')\n",
        "print('R score:', r2_score_lasso)\n",
        "\n",
        "# The R score is similar to the normalized Ridge model.\n",
        "# Furthermore, the RSME is the best yet"
      ],
      "execution_count": 49,
      "outputs": [
        {
          "output_type": "stream",
          "text": [
            "Mean Absolute Error: 123083.12389005191\n",
            "Mean Squared Error: 40073222532.75371\n",
            "Root Mean Squared Error: 200182.9726344219\n",
            "Percentage of RMSE to mean is: 37.058419900723656 %\n",
            "R score: 0.7097995733762883\n"
          ],
          "name": "stdout"
        }
      ]
    },
    {
      "cell_type": "markdown",
      "metadata": {
        "id": "yFrHYlfmt39N"
      },
      "source": [
        "### Building Normalized Model"
      ]
    },
    {
      "cell_type": "code",
      "metadata": {
        "colab": {
          "base_uri": "https://localhost:8080/",
          "height": 444
        },
        "id": "qUJiY9qitjA5",
        "outputId": "58f41d63-1611-41ea-da38-b2258a661698"
      },
      "source": [
        "X_train_Lasso = X_train.copy(deep=True)\n",
        "X_test_Lasso = X_test.copy(deep=True)\n",
        "y_train_Lasso = y_train.copy(deep=True)\n",
        "y_test_Lasso = y_test.copy(deep=True)\n",
        "\n",
        "Lasso_regressor = Lasso(normalize= True)\n",
        "Lasso_regressor.fit(X_train_Lasso,y_train_Lasso)\n",
        "\n",
        "coeff_Lasso = pd.DataFrame(Lasso_regressor.coef_, X.columns, columns=['Coefficient'])\n",
        "coeff_Lasso.plot(kind='barh', figsize=(20,7))\n",
        "plt.title('Lasso Regression Normalized Base-line Model')\n",
        "plt.axvline(x=0, color='.2')\n",
        "plt.subplots_adjust(left=.5)\n",
        "\n",
        "# Similar to the Lasso Non-normalized plot."
      ],
      "execution_count": 50,
      "outputs": [
        {
          "output_type": "display_data",
          "data": {
            "image/png": "[encoded data removed]",
            "text/plain": [
              "<Figure size 1440x504 with 1 Axes>"
            ]
          },
          "metadata": {
            "tags": []
          }
        }
      ]
    },
    {
      "cell_type": "code",
      "metadata": {
        "colab": {
          "base_uri": "https://localhost:8080/",
          "height": 307
        },
        "id": "JRT7BoCKuQxJ",
        "outputId": "27bed767-93b3-42e6-cee7-587b8b0ea257"
      },
      "source": [
        "y_pred_Lasso = Lasso_regressor.predict(X_test_Lasso)\n",
        "\n",
        "df_Lasso = pd.DataFrame({'Actual': y_test_Lasso, 'Predicted': y_pred_Lasso})\n",
        "\n",
        "sns.regplot(df_Lasso.Actual, df_Lasso.Predicted)"
      ],
      "execution_count": 51,
      "outputs": [
        {
          "output_type": "execute_result",
          "data": {
            "text/plain": [
              "<matplotlib.axes._subplots.AxesSubplot at 0x7ff1ba3512b0>"
            ]
          },
          "metadata": {
            "tags": []
          },
          "execution_count": 0
        },
        {
          "output_type": "display_data",
          "data": {
            "image/png": "[encoded data removed]",
            "text/plain": [
              "<Figure size 432x288 with 1 Axes>"
            ]
          },
          "metadata": {
            "tags": []
          }
        }
      ]
    },
    {
      "cell_type": "code",
      "metadata": {
        "colab": {
          "base_uri": "https://localhost:8080/"
        },
        "id": "lTKdPbg8up6f",
        "outputId": "4f274dc2-0e04-4613-a3cd-cb6a5bf8e9bf"
      },
      "source": [
        "# The predictions still seem to be similar to the previous 4 models.\n",
        "\n",
        "# Evaluating the Algorithm\n",
        "\n",
        "mae_Lasso = metrics.mean_absolute_error(y_test_Lasso, y_pred_Lasso)\n",
        "mse_Lasso = metrics.mean_squared_error(y_test_Lasso, y_pred_Lasso)\n",
        "rmse_Lasso = np.sqrt(metrics.mean_squared_error(y_test_Lasso, y_pred_Lasso))\n",
        "\n",
        "ratio_Lasso = (rmse_Lasso / house.price.mean()) * 100\n",
        "r2_score_Lasso = r2_score(y_test_Lasso, y_pred_Lasso)\n",
        "\n",
        "print('Mean Absolute Error:', mae_Lasso)\n",
        "print('Mean Squared Error:', mse_Lasso)\n",
        "print('Root Mean Squared Error:', rmse_Lasso)\n",
        "print('Percentage of RMSE to mean is: ' +str(ratio_Lasso) + ' %')\n",
        "print('R score:', r2_score_Lasso)\n",
        "\n",
        "# The RMSE and R-score is similar to the non-normalized Lasso models."
      ],
      "execution_count": 52,
      "outputs": [
        {
          "output_type": "stream",
          "text": [
            "Mean Absolute Error: 123043.92020203863\n",
            "Mean Squared Error: 40090162634.646545\n",
            "Root Mean Squared Error: 200225.27970924787\n",
            "Percentage of RMSE to mean is: 37.066251902232274 %\n",
            "R score: 0.7096768973226635\n"
          ],
          "name": "stdout"
        }
      ]
    },
    {
      "cell_type": "markdown",
      "metadata": {
        "id": "p9ESN2uLvSLE"
      },
      "source": [
        "### Lasso Regression Recommendation\n",
        "\n",
        "Lasso has the best results so far. It has the lowest RSME for both non-normalised and normalised models at 37% (similar to normalised Ridge model). However it performs better on the R-scores, for both models. R-score is a statistical measure of how close the data are to the fitted regression line. It is also known as the coefficient of determination, or the coefficient of multiple determination for multiple regression. 0% indicates that the model explains none of the variability of the response data around its mean.\n",
        "100% indicates that the model explains all the variability of the response data around its mean. The Lasso Models show that 70% of the data's variance is explained by the models."
      ]
    },
    {
      "cell_type": "markdown",
      "metadata": {
        "id": "9U0y4SzWvZ-N"
      },
      "source": [
        "## ELASTIC NET REGRESSION"
      ]
    },
    {
      "cell_type": "markdown",
      "metadata": {
        "id": "Ejo5uZj5vo28"
      },
      "source": [
        "### Building Non-Normalized Model"
      ]
    },
    {
      "cell_type": "code",
      "metadata": {
        "colab": {
          "base_uri": "https://localhost:8080/",
          "height": 444
        },
        "id": "ktp6c_R5vAsV",
        "outputId": "cd0b049e-b794-432c-d274-9bd16d38a0ba"
      },
      "source": [
        "X_train_elastic = X_train.copy(deep=True)\n",
        "X_test_elastic = X_test.copy(deep=True)\n",
        "y_train_elastic = y_train.copy(deep=True)\n",
        "y_test_elastic = y_test.copy(deep=True)\n",
        "\n",
        "elastic_regressor = ElasticNet()\n",
        "elastic_regressor.fit(X_train_elastic,y_train_elastic)\n",
        "\n",
        "coeff_elastic = pd.DataFrame(elastic_regressor.coef_, X.columns, columns=['Coefficient'])\n",
        "coeff_elastic.plot(kind='barh', figsize=(20,7))\n",
        "plt.title('Elastic Net Regression Base-line Model')\n",
        "plt.axvline(x=0, color='.2')\n",
        "plt.subplots_adjust(left=.5)\n",
        "\n",
        "# Differences can be seen in long, lat, yr_built, grade, condition, view, waterfront, sqft_living\n",
        "# and bathrooms and bedrooms features, from the Multiple Linear Model."
      ],
      "execution_count": 53,
      "outputs": [
        {
          "output_type": "display_data",
          "data": {
            "image/png": "[encoded data removed]",
            "text/plain": [
              "<Figure size 1440x504 with 1 Axes>"
            ]
          },
          "metadata": {
            "tags": []
          }
        }
      ]
    },
    {
      "cell_type": "code",
      "metadata": {
        "colab": {
          "base_uri": "https://localhost:8080/",
          "height": 307
        },
        "id": "yRQNLLWwwSvV",
        "outputId": "59a17f81-ed59-4eee-d3e8-3d73980fe77d"
      },
      "source": [
        "# Making Predictions\n",
        "\n",
        "y_pred_elastic = elastic_regressor.predict(X_test_elastic)\n",
        "\n",
        "df_elastic = pd.DataFrame({'Actual': y_test_elastic, 'Predicted': y_pred_elastic})\n",
        "\n",
        "sns.regplot(df_elastic.Actual, df_elastic.Predicted)"
      ],
      "execution_count": 54,
      "outputs": [
        {
          "output_type": "execute_result",
          "data": {
            "text/plain": [
              "<matplotlib.axes._subplots.AxesSubplot at 0x7ff1ba36a198>"
            ]
          },
          "metadata": {
            "tags": []
          },
          "execution_count": 0
        },
        {
          "output_type": "display_data",
          "data": {
            "image/png": "[encoded data removed]",
            "text/plain": [
              "<Figure size 432x288 with 1 Axes>"
            ]
          },
          "metadata": {
            "tags": []
          }
        }
      ]
    },
    {
      "cell_type": "code",
      "metadata": {
        "colab": {
          "base_uri": "https://localhost:8080/"
        },
        "id": "iymZwqunxv9e",
        "outputId": "80d1890c-b5fe-42d0-f908-27e9488e3a56"
      },
      "source": [
        "# The predictions still seem to be similar to the previous 5 models.\n",
        "\n",
        "# Evaluating the Algorithm\n",
        "\n",
        "mae_elastic = metrics.mean_absolute_error(y_test_elastic, y_pred_elastic)\n",
        "mse_elastic = metrics.mean_squared_error(y_test_elastic, y_pred_elastic)\n",
        "rmse_elastic = np.sqrt(metrics.mean_squared_error(y_test_elastic, y_pred_elastic))\n",
        "\n",
        "ratio_elastic = (rmse_elastic / house.price.mean()) * 100\n",
        "r2_score_elastic = r2_score(y_test_elastic, y_pred_elastic)\n",
        "\n",
        "print('Mean Absolute Error:', mae_elastic)\n",
        "print('Mean Squared Error:', mse_elastic)\n",
        "print('Root Mean Squared Error:', rmse_elastic)\n",
        "print('Percentage of RMSE to mean is: ' +str(ratio_elastic) + ' %')\n",
        "print('R score:', r2_score_elastic)\n",
        "\n",
        "# It's RMSE and R-score is one of the worst."
      ],
      "execution_count": 55,
      "outputs": [
        {
          "output_type": "stream",
          "text": [
            "Mean Absolute Error: 144304.84846249476\n",
            "Mean Squared Error: 51757550681.429695\n",
            "Root Mean Squared Error: 227502.858622545\n",
            "Percentage of RMSE to mean is: 42.11595198381788 %\n",
            "R score: 0.6251845412114616\n"
          ],
          "name": "stdout"
        }
      ]
    },
    {
      "cell_type": "markdown",
      "metadata": {
        "id": "W607KRCqyhoF"
      },
      "source": [
        "### Building Normalized Model"
      ]
    },
    {
      "cell_type": "code",
      "metadata": {
        "colab": {
          "base_uri": "https://localhost:8080/",
          "height": 444
        },
        "id": "5XrEWKJwySLC",
        "outputId": "93a755c1-e9c1-4aeb-c7f1-a42ac2773e47"
      },
      "source": [
        "X_train_Elastic = X_train.copy(deep=True)\n",
        "X_test_Elastic = X_test.copy(deep=True)\n",
        "y_train_Elastic = y_train.copy(deep=True)\n",
        "y_test_Elastic = y_test.copy(deep=True)\n",
        "\n",
        "Elastic_regressor = ElasticNet(normalize= True)\n",
        "Elastic_regressor.fit(X_train_Elastic,y_train_Elastic)\n",
        "\n",
        "coeff_Elastic = pd.DataFrame(Elastic_regressor.coef_, X.columns, columns=['Coefficient'])\n",
        "coeff_Elastic.plot(kind='barh', figsize=(20,7))\n",
        "plt.title('Elastic Net Regression Normalized Base-line Model')\n",
        "plt.axvline(x=0, color='.2')\n",
        "plt.subplots_adjust(left=.5)\n",
        "\n",
        "# So far, it is the most different plot from them all."
      ],
      "execution_count": 56,
      "outputs": [
        {
          "output_type": "display_data",
          "data": {
            "image/png": "[encoded data removed]",
            "text/plain": [
              "<Figure size 1440x504 with 1 Axes>"
            ]
          },
          "metadata": {
            "tags": []
          }
        }
      ]
    },
    {
      "cell_type": "code",
      "metadata": {
        "colab": {
          "base_uri": "https://localhost:8080/",
          "height": 296
        },
        "id": "udDEibzbzA7n",
        "outputId": "ad6785ce-b7d4-400b-9af9-8089398a4f06"
      },
      "source": [
        "# Making Predictions\n",
        "\n",
        "y_pred_Elastic = Elastic_regressor.predict(X_test_Elastic)\n",
        "\n",
        "df_Elastic = pd.DataFrame({'Actual': y_test_Elastic, 'Predicted': y_pred_Elastic})\n",
        "\n",
        "sns.regplot(df_Elastic.Actual, df_Elastic.Predicted)"
      ],
      "execution_count": 57,
      "outputs": [
        {
          "output_type": "execute_result",
          "data": {
            "text/plain": [
              "<matplotlib.axes._subplots.AxesSubplot at 0x7ff1ba6f6358>"
            ]
          },
          "metadata": {
            "tags": []
          },
          "execution_count": 0
        },
        {
          "output_type": "display_data",
          "data": {
            "image/png": "[encoded data removed]",
            "text/plain": [
              "<Figure size 432x288 with 1 Axes>"
            ]
          },
          "metadata": {
            "tags": []
          }
        }
      ]
    },
    {
      "cell_type": "code",
      "metadata": {
        "colab": {
          "base_uri": "https://localhost:8080/"
        },
        "id": "HR77andmzgin",
        "outputId": "bcb98ba9-d5f1-492b-8701-582ff427c009"
      },
      "source": [
        "# The predictions still seem to be similar to the previous 6 models.\n",
        "\n",
        "# Evaluating the Algorithm\n",
        "\n",
        "mae_Elastic = metrics.mean_absolute_error(y_test_Elastic, y_pred_Elastic)\n",
        "mse_Elastic = metrics.mean_squared_error(y_test_Elastic, y_pred_Elastic)\n",
        "rmse_Elastic = np.sqrt(metrics.mean_squared_error(y_test_Elastic, y_pred_Elastic))\n",
        "\n",
        "ratio_Elastic = (rmse_Elastic / house.price.mean()) * 100\n",
        "r2_score_Elastic = r2_score(y_test_Elastic, y_pred_Elastic)\n",
        "\n",
        "print('Mean Absolute Error:', mae_Elastic)\n",
        "print('Mean Squared Error:', mse_Elastic)\n",
        "print('Root Mean Squared Error:', rmse_Elastic)\n",
        "print('Percentage of RMSE to mean is: ' +str(ratio_Elastic) + ' %')\n",
        "print('R score:', r2_score_Elastic)\n",
        "\n",
        "# This model has the worst RMSE and R-Score values"
      ],
      "execution_count": 58,
      "outputs": [
        {
          "output_type": "stream",
          "text": [
            "Mean Absolute Error: 233821.93269265973\n",
            "Mean Squared Error: 138008030855.80112\n",
            "Root Mean Squared Error: 371494.3214314334\n",
            "Percentage of RMSE to mean is: 68.77204575976606 %\n",
            "R score: 0.0005797662237636558\n"
          ],
          "name": "stdout"
        }
      ]
    },
    {
      "cell_type": "markdown",
      "metadata": {
        "id": "vS5V2m8j0DmX"
      },
      "source": [
        "### Elastic Net Regression Recommendation\n",
        "\n",
        "Elastic Net performed the worst when compared to all the other models. The RMSEs indicate that the model is not accurate and the Rscore, especially of the normalized model shows that only 0.05% of the variance is explained by the model, which is horrible."
      ]
    },
    {
      "cell_type": "markdown",
      "metadata": {
        "id": "bq_avCLE24_V"
      },
      "source": [
        "## RESIDUAL PLOTS AND HETEROSCEDASTICITY USING BARTLETT'S TEST\n",
        "\n",
        "Since Lasso Regression Models have the best RMSES and R-scores, we'll check for heteroskedasticity to help determine which model to use, and perform hyperparameter tuning on it to achieve better results. This test will show why we chose this over the baseline  Multiple Linear Regression"
      ]
    },
    {
      "cell_type": "code",
      "metadata": {
        "colab": {
          "base_uri": "https://localhost:8080/",
          "height": 297
        },
        "id": "hfros6dwzyN5",
        "outputId": "1694b7e3-3dd2-4a79-ec55-39fa632bb3e9"
      },
      "source": [
        "residuals = np.subtract(y_pred_mlreg, y_test_mlreg)\n",
        "pd.DataFrame(residuals).describe()"
      ],
      "execution_count": 59,
      "outputs": [
        {
          "output_type": "execute_result",
          "data": {
            "text/html": [
              "<div>\n",
              "<style scoped>\n",
              "    .dataframe tbody tr th:only-of-type {\n",
              "        vertical-align: middle;\n",
              "    }\n",
              "\n",
              "    .dataframe tbody tr th {\n",
              "        vertical-align: top;\n",
              "    }\n",
              "\n",
              "    .dataframe thead th {\n",
              "        text-align: right;\n",
              "    }\n",
              "</style>\n",
              "<table border=\"1\" class=\"dataframe\">\n",
              "  <thead>\n",
              "    <tr style=\"text-align: right;\">\n",
              "      <th></th>\n",
              "      <th>price</th>\n",
              "    </tr>\n",
              "  </thead>\n",
              "  <tbody>\n",
              "    <tr>\n",
              "      <th>count</th>\n",
              "      <td>6.484000e+03</td>\n",
              "    </tr>\n",
              "    <tr>\n",
              "      <th>mean</th>\n",
              "      <td>-7.111330e+03</td>\n",
              "    </tr>\n",
              "    <tr>\n",
              "      <th>std</th>\n",
              "      <td>2.155916e+05</td>\n",
              "    </tr>\n",
              "    <tr>\n",
              "      <th>min</th>\n",
              "      <td>-5.210405e+06</td>\n",
              "    </tr>\n",
              "    <tr>\n",
              "      <th>25%</th>\n",
              "      <td>-8.355634e+04</td>\n",
              "    </tr>\n",
              "    <tr>\n",
              "      <th>50%</th>\n",
              "      <td>9.367680e+03</td>\n",
              "    </tr>\n",
              "    <tr>\n",
              "      <th>75%</th>\n",
              "      <td>9.962803e+04</td>\n",
              "    </tr>\n",
              "    <tr>\n",
              "      <th>max</th>\n",
              "      <td>1.208949e+06</td>\n",
              "    </tr>\n",
              "  </tbody>\n",
              "</table>\n",
              "</div>"
            ],
            "text/plain": [
              "              price\n",
              "count  6.484000e+03\n",
              "mean  -7.111330e+03\n",
              "std    2.155916e+05\n",
              "min   -5.210405e+06\n",
              "25%   -8.355634e+04\n",
              "50%    9.367680e+03\n",
              "75%    9.962803e+04\n",
              "max    1.208949e+06"
            ]
          },
          "metadata": {
            "tags": []
          },
          "execution_count": 0
        }
      ]
    },
    {
      "cell_type": "code",
      "metadata": {
        "id": "HtDnL9WH4NQ_",
        "colab": {
          "base_uri": "https://localhost:8080/",
          "height": 290
        },
        "outputId": "8b051b69-5462-4951-d043-1546fc6a133b"
      },
      "source": [
        "plt.scatter(y_pred_mlreg, residuals, color='black')\n",
        "plt.ylabel('residual')\n",
        "plt.xlabel('fitted values')\n",
        "plt.axhline(y= residuals.mean(), color='red', linewidth=1)\n",
        "plt.show()\n",
        "\n",
        "# The data seems to be cone-shaped showing possibility of heteroskedasticity"
      ],
      "execution_count": 60,
      "outputs": [
        {
          "output_type": "display_data",
          "data": {
            "image/png": "[encoded data removed]",
            "text/plain": [
              "<Figure size 432x288 with 1 Axes>"
            ]
          },
          "metadata": {
            "tags": []
          }
        }
      ]
    },
    {
      "cell_type": "code",
      "metadata": {
        "id": "Mj5HT2-84YiU",
        "colab": {
          "base_uri": "https://localhost:8080/"
        },
        "outputId": "0f2e550a-c362-45c6-98f7-b650d12e6b8b"
      },
      "source": [
        "# Let's be thorough though, and perform a heteroskedasticity test.\n",
        "# For this we will use bartlett's test. The test establishes as a null hypothesis that the variance is equal for all our datapoints,\n",
        "# and the new hypothesis that the variance is different for at least one pair of datapoints.\n",
        "\n",
        "test_result, p_value = sp.stats.bartlett(y_pred_mlreg, residuals)\n",
        "\n",
        "# To interpret the results we must compare to a p_value of 0.05\n",
        "\n",
        "print(p_value)\n",
        "\n",
        "if (p_value < 0.05):\n",
        "  print('the variances are unequal, and the model shows heteroskedasicity')\n",
        "else:\n",
        "  print('the variances are homogeneous!')"
      ],
      "execution_count": 61,
      "outputs": [
        {
          "output_type": "stream",
          "text": [
            "4.298562842915411e-133\n",
            "the variances are unequal, and the model shows heteroskedasicity\n"
          ],
          "name": "stdout"
        }
      ]
    },
    {
      "cell_type": "markdown",
      "metadata": {
        "id": "tw2b6u2w6EvY"
      },
      "source": [
        "Since the model does not have homogenous variances, as expected since we already knew it was not normalized, we will use the Lasso Regression Model and Tune it accordingly."
      ]
    },
    {
      "cell_type": "markdown",
      "metadata": {
        "id": "FDzzKuxU6XmM"
      },
      "source": [
        "## HYPERPARAMETER TUNING LASSO REGRESSION MODEL"
      ]
    },
    {
      "cell_type": "code",
      "metadata": {
        "id": "Uwe_d64s5gNz",
        "colab": {
          "base_uri": "https://localhost:8080/"
        },
        "outputId": "e4700dce-c6b3-48f2-aa38-af64a32c972c"
      },
      "source": [
        "# MACHINE LEARNING PIPELINE\n",
        "\n",
        "from sklearn.compose import TransformedTargetRegressor\n",
        "from sklearn.pipeline import make_pipeline\n",
        "from sklearn.linear_model import LassoCV\n",
        "\n",
        "X_train_ = X_train.copy(deep=True)\n",
        "X_test_ = X_test.copy(deep=True)\n",
        "y_train_ = y_train.copy(deep=True)\n",
        "y_test_ = y_test.copy(deep=True)\n",
        "X_ = X.copy(deep=True)\n",
        "\n",
        "preprocessor = StandardScaler()\n",
        "preprocessor.fit(X_)\n",
        "\n",
        "def func(x):\n",
        "  return np.log(x)\n",
        "def inverse_func(x):\n",
        "  return np.exp(x)\n",
        "\n",
        "model = make_pipeline(\n",
        "    preprocessor,\n",
        "    TransformedTargetRegressor(\n",
        "        regressor=LassoCV(alphas=np.logspace(-10, 10, 21), max_iter=100000),\n",
        "        func=func,\n",
        "        inverse_func=inverse_func\n",
        "    )\n",
        ")\n",
        "\n",
        "model.fit(X_train_, y_train_)\n",
        "\n",
        "# First we verify which value of alpha has been selected.\n",
        "model[-1].regressor_.alpha_"
      ],
      "execution_count": 62,
      "outputs": [
        {
          "output_type": "execute_result",
          "data": {
            "text/plain": [
              "0.0001"
            ]
          },
          "metadata": {
            "tags": []
          },
          "execution_count": 0
        }
      ]
    },
    {
      "cell_type": "code",
      "metadata": {
        "id": "Eg8Rk9Qz9B0W",
        "colab": {
          "base_uri": "https://localhost:8080/",
          "height": 444
        },
        "outputId": "ce247633-9555-436e-af5f-f8ad64be0ec5"
      },
      "source": [
        "# Then we check the quality of the predictions.\n",
        "\n",
        "coefs = pd.DataFrame(\n",
        "    model.named_steps['transformedtargetregressor'].regressor_.coef_,\n",
        "    columns=['Coefficients'], index=X.columns\n",
        ")\n",
        "coefs.plot(kind='barh', figsize=(9, 7))\n",
        "plt.title('Lasso model, regularization, normalized variables')\n",
        "plt.axvline(x=0, color='.5')\n",
        "plt.subplots_adjust(left=.3)"
      ],
      "execution_count": 63,
      "outputs": [
        {
          "output_type": "display_data",
          "data": {
            "image/png": "[encoded data removed]",
            "text/plain": [
              "<Figure size 648x504 with 1 Axes>"
            ]
          },
          "metadata": {
            "tags": []
          }
        }
      ]
    },
    {
      "cell_type": "code",
      "metadata": {
        "id": "Fkc4mPnz9xbB",
        "colab": {
          "base_uri": "https://localhost:8080/",
          "height": 307
        },
        "outputId": "d67a1cab-1efe-4967-cb29-d99ff3bd1037"
      },
      "source": [
        "y_pred_ = model.predict(X_test_)\n",
        "\n",
        "df_ = pd.DataFrame({'Actual': y_test_, 'Predicted': y_pred_})\n",
        "\n",
        "sns.regplot(df_.Actual, df_.Predicted)\n",
        "\n",
        "# As can be seen, our prediction values now seem to be much closer to the Actual data."
      ],
      "execution_count": 64,
      "outputs": [
        {
          "output_type": "execute_result",
          "data": {
            "text/plain": [
              "<matplotlib.axes._subplots.AxesSubplot at 0x7ff1ba340978>"
            ]
          },
          "metadata": {
            "tags": []
          },
          "execution_count": 64
        },
        {
          "output_type": "display_data",
          "data": {
            "image/png": "[encoded data removed]",
            "text/plain": [
              "<Figure size 432x288 with 1 Axes>"
            ]
          },
          "metadata": {
            "tags": [],
            "needs_background": "light"
          }
        }
      ]
    },
    {
      "cell_type": "code",
      "metadata": {
        "id": "rQo52PtL-RmC",
        "colab": {
          "base_uri": "https://localhost:8080/"
        },
        "outputId": "d1237f7d-b266-4754-a4ad-a65c1234ef6d"
      },
      "source": [
        "# Evaluating the Algorithm\n",
        "\n",
        "mae_ = metrics.mean_absolute_error(y_test_, y_pred_)\n",
        "mse_ = metrics.mean_squared_error(y_test_, y_pred_)\n",
        "rmse_ = np.sqrt(metrics.mean_squared_error(y_test_, y_pred_))\n",
        "\n",
        "ratio_ = (rmse_ / house.price.mean()) * 100\n",
        "r2_score_ = r2_score(y_test_, y_pred_)\n",
        "\n",
        "print('Mean Absolute Error:', mae_)\n",
        "print('Mean Squared Error:', mse_)\n",
        "print('Root Mean Squared Error:', rmse_)\n",
        "print('Percentage of RMSE to mean is: ' +str(ratio_) + ' %')\n",
        "print('R score:', r2_score_)\n",
        "\n",
        "# The RMSE value is the lowest we have found so far.\n",
        "# And the R-score is the highest we have found so far"
      ],
      "execution_count": 65,
      "outputs": [
        {
          "output_type": "stream",
          "text": [
            "Mean Absolute Error: 109066.94786405917\n",
            "Mean Squared Error: 38832040872.6661\n",
            "Root Mean Squared Error: 197058.47069503533\n",
            "Percentage of RMSE to mean is: 36.480003548290576 %\n",
            "R score: 0.7187879058464447\n"
          ],
          "name": "stdout"
        }
      ]
    },
    {
      "cell_type": "markdown",
      "metadata": {
        "id": "42gW98DbZ2rP"
      },
      "source": [
        "# CONCLUSION\n",
        "\n",
        "The Model above is our chosen model as it has provided the best results after hyperparameter tuning. The Percentage of RMSE to mean is the lowest at 36% (meaning it is the most accurate model we've built) and the R-score is the best at 0.71 (meaning it explains 71% of the variance in the data)."
      ]
    },
    {
      "cell_type": "markdown",
      "metadata": {
        "id": "ogtTcmj0yjii"
      },
      "source": [
        "# CHALLENGING THE SOLUTION"
      ]
    },
    {
      "cell_type": "markdown",
      "metadata": {
        "id": "RKOV9nUUBWeM"
      },
      "source": [
        "## QUANTILE REGRESSION"
      ]
    },
    {
      "cell_type": "code",
      "metadata": {
        "id": "daJ8ISci-71A",
        "colab": {
          "base_uri": "https://localhost:8080/",
          "height": 204
        },
        "outputId": "5bffb3aa-2d9e-4e02-a460-8802de4a3432"
      },
      "source": [
        "# We'll compare our best model above with Quantile regression\n",
        "\n",
        "from statsmodels.regression.quantile_regression import QuantReg\n",
        "import statsmodels.formula.api as smf\n",
        "\n",
        "X_train_quant = X_train.copy(deep=True)\n",
        "X_test_quant = X_test.copy(deep=True)\n",
        "y_train_quant = y_train.copy(deep=True)\n",
        "y_test_quant = y_test.copy(deep=True)\n",
        "\n",
        "scaler = StandardScaler()\n",
        "X_train_quant = scaler.fit_transform(X_train_quant)\n",
        "X_test_quant = scaler.transform(X_test_quant)\n",
        "\n",
        "# DataFrame for Train data\n",
        "\n",
        "df_1 = pd.DataFrame(X_train_quant, columns= X.columns)\n",
        "\n",
        "target = pd.Series(y_train_quant, name=\"price\")\n",
        "df_2 =  target.to_frame()\n",
        "df_2 = df_2.reset_index()\n",
        "df_2.drop(columns=['index'], inplace=True)\n",
        "\n",
        "train_data = pd.concat([df_1,df_2], axis=1)\n",
        "train_data.head()"
      ],
      "execution_count": 107,
      "outputs": [
        {
          "output_type": "execute_result",
          "data": {
            "text/html": [
              "<div>\n",
              "<style scoped>\n",
              "    .dataframe tbody tr th:only-of-type {\n",
              "        vertical-align: middle;\n",
              "    }\n",
              "\n",
              "    .dataframe tbody tr th {\n",
              "        vertical-align: top;\n",
              "    }\n",
              "\n",
              "    .dataframe thead th {\n",
              "        text-align: right;\n",
              "    }\n",
              "</style>\n",
              "<table border=\"1\" class=\"dataframe\">\n",
              "  <thead>\n",
              "    <tr style=\"text-align: right;\">\n",
              "      <th></th>\n",
              "      <th>bedrooms</th>\n",
              "      <th>bathrooms</th>\n",
              "      <th>sqft_living</th>\n",
              "      <th>sqft_lot</th>\n",
              "      <th>floors</th>\n",
              "      <th>waterfront</th>\n",
              "      <th>view</th>\n",
              "      <th>condition</th>\n",
              "      <th>grade</th>\n",
              "      <th>sqft_above</th>\n",
              "      <th>sqft_basement</th>\n",
              "      <th>yr_built</th>\n",
              "      <th>yr_renovated</th>\n",
              "      <th>zipcode</th>\n",
              "      <th>lat</th>\n",
              "      <th>long</th>\n",
              "      <th>sqft_living15</th>\n",
              "      <th>sqft_lot15</th>\n",
              "      <th>price</th>\n",
              "    </tr>\n",
              "  </thead>\n",
              "  <tbody>\n",
              "    <tr>\n",
              "      <th>0</th>\n",
              "      <td>-0.395866</td>\n",
              "      <td>0.174042</td>\n",
              "      <td>0.029360</td>\n",
              "      <td>-0.092866</td>\n",
              "      <td>0.955279</td>\n",
              "      <td>-0.086749</td>\n",
              "      <td>-0.307711</td>\n",
              "      <td>0.894653</td>\n",
              "      <td>0.279722</td>\n",
              "      <td>0.388316</td>\n",
              "      <td>-0.661944</td>\n",
              "      <td>0.241272</td>\n",
              "      <td>-0.20982</td>\n",
              "      <td>-0.103165</td>\n",
              "      <td>1.311304</td>\n",
              "      <td>0.762125</td>\n",
              "      <td>-0.192371</td>\n",
              "      <td>-0.058234</td>\n",
              "      <td>479000.0</td>\n",
              "    </tr>\n",
              "    <tr>\n",
              "      <th>1</th>\n",
              "      <td>-0.395866</td>\n",
              "      <td>0.496804</td>\n",
              "      <td>-0.795392</td>\n",
              "      <td>-0.324085</td>\n",
              "      <td>2.818423</td>\n",
              "      <td>-0.086749</td>\n",
              "      <td>-0.307711</td>\n",
              "      <td>-0.633367</td>\n",
              "      <td>0.279722</td>\n",
              "      <td>-0.527663</td>\n",
              "      <td>-0.661944</td>\n",
              "      <td>1.165062</td>\n",
              "      <td>-0.20982</td>\n",
              "      <td>0.740980</td>\n",
              "      <td>0.832302</td>\n",
              "      <td>-1.227813</td>\n",
              "      <td>-0.930048</td>\n",
              "      <td>-0.313578</td>\n",
              "      <td>477000.0</td>\n",
              "    </tr>\n",
              "    <tr>\n",
              "      <th>2</th>\n",
              "      <td>0.665082</td>\n",
              "      <td>0.496804</td>\n",
              "      <td>0.734740</td>\n",
              "      <td>-0.236473</td>\n",
              "      <td>0.955279</td>\n",
              "      <td>-0.086749</td>\n",
              "      <td>-0.307711</td>\n",
              "      <td>-0.633367</td>\n",
              "      <td>-0.566153</td>\n",
              "      <td>1.171719</td>\n",
              "      <td>-0.661944</td>\n",
              "      <td>1.028204</td>\n",
              "      <td>-0.20982</td>\n",
              "      <td>-0.403306</td>\n",
              "      <td>-0.574315</td>\n",
              "      <td>0.167268</td>\n",
              "      <td>0.979234</td>\n",
              "      <td>-0.261006</td>\n",
              "      <td>424950.0</td>\n",
              "    </tr>\n",
              "    <tr>\n",
              "      <th>3</th>\n",
              "      <td>0.665082</td>\n",
              "      <td>0.496804</td>\n",
              "      <td>0.647924</td>\n",
              "      <td>-0.146116</td>\n",
              "      <td>0.955279</td>\n",
              "      <td>-0.086749</td>\n",
              "      <td>-0.307711</td>\n",
              "      <td>-0.633367</td>\n",
              "      <td>1.125596</td>\n",
              "      <td>1.075300</td>\n",
              "      <td>-0.661944</td>\n",
              "      <td>0.617631</td>\n",
              "      <td>-0.20982</td>\n",
              "      <td>-0.909793</td>\n",
              "      <td>0.094262</td>\n",
              "      <td>1.562350</td>\n",
              "      <td>1.181733</td>\n",
              "      <td>-0.158462</td>\n",
              "      <td>620000.0</td>\n",
              "    </tr>\n",
              "    <tr>\n",
              "      <th>4</th>\n",
              "      <td>-2.517761</td>\n",
              "      <td>-1.762526</td>\n",
              "      <td>-1.739516</td>\n",
              "      <td>-0.132018</td>\n",
              "      <td>-0.907866</td>\n",
              "      <td>-0.086749</td>\n",
              "      <td>-0.307711</td>\n",
              "      <td>-2.161387</td>\n",
              "      <td>-3.103775</td>\n",
              "      <td>-1.576218</td>\n",
              "      <td>-0.661944</td>\n",
              "      <td>-0.785161</td>\n",
              "      <td>-0.20982</td>\n",
              "      <td>1.284984</td>\n",
              "      <td>-0.452755</td>\n",
              "      <td>-1.057854</td>\n",
              "      <td>-0.640763</td>\n",
              "      <td>-0.107921</td>\n",
              "      <td>145000.0</td>\n",
              "    </tr>\n",
              "  </tbody>\n",
              "</table>\n",
              "</div>"
            ],
            "text/plain": [
              "   bedrooms  bathrooms  sqft_living  ...  sqft_living15  sqft_lot15     price\n",
              "0 -0.395866   0.174042     0.029360  ...      -0.192371   -0.058234  479000.0\n",
              "1 -0.395866   0.496804    -0.795392  ...      -0.930048   -0.313578  477000.0\n",
              "2  0.665082   0.496804     0.734740  ...       0.979234   -0.261006  424950.0\n",
              "3  0.665082   0.496804     0.647924  ...       1.181733   -0.158462  620000.0\n",
              "4 -2.517761  -1.762526    -1.739516  ...      -0.640763   -0.107921  145000.0\n",
              "\n",
              "[5 rows x 19 columns]"
            ]
          },
          "metadata": {
            "tags": []
          },
          "execution_count": 107
        }
      ]
    },
    {
      "cell_type": "code",
      "metadata": {
        "colab": {
          "base_uri": "https://localhost:8080/"
        },
        "id": "LFiVatLy_mrP",
        "outputId": "f14454fc-1e16-4398-9478-caa98b2bd361"
      },
      "source": [
        "train_data.columns = ['bedrooms',\t'bathrooms',\t'sqft_living','sqft_lot',\t'floors',\t'waterfront',\n",
        "                      'view',\t'condition',\t'grade',\t'sqft_above',\t'sqft_basement',\t'yr_built',\t\n",
        "                      'yr_renovated',\t'zipcode',\t'lat',\t'long',\t'sqft_living15',\t'sqft_lot15',\t'price']\n",
        "train_data.sqft_basement"
      ],
      "execution_count": 85,
      "outputs": [
        {
          "output_type": "execute_result",
          "data": {
            "text/plain": [
              "0       -0.661944\n",
              "1       -0.661944\n",
              "2       -0.661944\n",
              "3       -0.661944\n",
              "4       -0.661944\n",
              "           ...   \n",
              "15124    0.840762\n",
              "15125    1.132331\n",
              "15126    0.571620\n",
              "15127   -0.661944\n",
              "15128   -0.661944\n",
              "Name: sqft_basement, Length: 15129, dtype: float64"
            ]
          },
          "metadata": {
            "tags": []
          },
          "execution_count": 85
        }
      ]
    },
    {
      "cell_type": "code",
      "metadata": {
        "colab": {
          "base_uri": "https://localhost:8080/",
          "height": 334
        },
        "id": "yZNdBN6t07Io",
        "outputId": "99359e4f-b912-4bb2-cf1e-84d41fea07d8"
      },
      "source": [
        "# Summary report of dataset at 0.5 Quantile\n",
        "\n",
        "mod = smf.quantreg('price ~ bedrooms+bathrooms+sqft_living+sqft_lot+floors+waterfront+view+condition+grade+sqft_above', train_data)\n",
        "res = mod.fit(q=.5)\n",
        "print(res.summary())"
      ],
      "execution_count": 86,
      "outputs": [
        {
          "output_type": "error",
          "ename": "ValueError",
          "evalue": "ignored",
          "traceback": [
            "\u001b[0;31m---------------------------------------------------------------------------\u001b[0m",
            "\u001b[0;31mValueError\u001b[0m                                Traceback (most recent call last)",
            "\u001b[0;32m<ipython-input-86-425fb117fce1>\u001b[0m in \u001b[0;36m<module>\u001b[0;34m()\u001b[0m\n\u001b[1;32m      2\u001b[0m \u001b[0;34m\u001b[0m\u001b[0m\n\u001b[1;32m      3\u001b[0m \u001b[0mmod\u001b[0m \u001b[0;34m=\u001b[0m \u001b[0msmf\u001b[0m\u001b[0;34m.\u001b[0m\u001b[0mquantreg\u001b[0m\u001b[0;34m(\u001b[0m\u001b[0;34m'price ~ bedrooms+bathrooms+sqft_living+sqft_lot+floors+waterfront+view+condition+grade+sqft_above+sqft_basement'\u001b[0m\u001b[0;34m,\u001b[0m \u001b[0mtrain_data\u001b[0m\u001b[0;34m)\u001b[0m\u001b[0;34m\u001b[0m\u001b[0;34m\u001b[0m\u001b[0m\n\u001b[0;32m----> 4\u001b[0;31m \u001b[0mres\u001b[0m \u001b[0;34m=\u001b[0m \u001b[0mmod\u001b[0m\u001b[0;34m.\u001b[0m\u001b[0mfit\u001b[0m\u001b[0;34m(\u001b[0m\u001b[0mq\u001b[0m\u001b[0;34m=\u001b[0m\u001b[0;36m.5\u001b[0m\u001b[0;34m)\u001b[0m\u001b[0;34m\u001b[0m\u001b[0;34m\u001b[0m\u001b[0m\n\u001b[0m\u001b[1;32m      5\u001b[0m \u001b[0mprint\u001b[0m\u001b[0;34m(\u001b[0m\u001b[0mres\u001b[0m\u001b[0;34m.\u001b[0m\u001b[0msummary\u001b[0m\u001b[0;34m(\u001b[0m\u001b[0;34m)\u001b[0m\u001b[0;34m)\u001b[0m\u001b[0;34m\u001b[0m\u001b[0;34m\u001b[0m\u001b[0m\n",
            "\u001b[0;32m/usr/local/lib/python3.6/dist-packages/statsmodels/regression/quantile_regression.py\u001b[0m in \u001b[0;36mfit\u001b[0;34m(self, q, vcov, kernel, bandwidth, max_iter, p_tol, **kwargs)\u001b[0m\n\u001b[1;32m    176\u001b[0m             \u001b[0mresid\u001b[0m \u001b[0;34m=\u001b[0m \u001b[0mnp\u001b[0m\u001b[0;34m.\u001b[0m\u001b[0mabs\u001b[0m\u001b[0;34m(\u001b[0m\u001b[0mresid\u001b[0m\u001b[0;34m)\u001b[0m\u001b[0;34m\u001b[0m\u001b[0;34m\u001b[0m\u001b[0m\n\u001b[1;32m    177\u001b[0m             \u001b[0mxstar\u001b[0m \u001b[0;34m=\u001b[0m \u001b[0mexog\u001b[0m \u001b[0;34m/\u001b[0m \u001b[0mresid\u001b[0m\u001b[0;34m[\u001b[0m\u001b[0;34m:\u001b[0m\u001b[0;34m,\u001b[0m \u001b[0mnp\u001b[0m\u001b[0;34m.\u001b[0m\u001b[0mnewaxis\u001b[0m\u001b[0;34m]\u001b[0m\u001b[0;34m\u001b[0m\u001b[0;34m\u001b[0m\u001b[0m\n\u001b[0;32m--> 178\u001b[0;31m             \u001b[0mdiff\u001b[0m \u001b[0;34m=\u001b[0m \u001b[0mnp\u001b[0m\u001b[0;34m.\u001b[0m\u001b[0mmax\u001b[0m\u001b[0;34m(\u001b[0m\u001b[0mnp\u001b[0m\u001b[0;34m.\u001b[0m\u001b[0mabs\u001b[0m\u001b[0;34m(\u001b[0m\u001b[0mbeta\u001b[0m \u001b[0;34m-\u001b[0m \u001b[0mbeta0\u001b[0m\u001b[0;34m)\u001b[0m\u001b[0;34m)\u001b[0m\u001b[0;34m\u001b[0m\u001b[0;34m\u001b[0m\u001b[0m\n\u001b[0m\u001b[1;32m    179\u001b[0m             \u001b[0mhistory\u001b[0m\u001b[0;34m[\u001b[0m\u001b[0;34m'params'\u001b[0m\u001b[0;34m]\u001b[0m\u001b[0;34m.\u001b[0m\u001b[0mappend\u001b[0m\u001b[0;34m(\u001b[0m\u001b[0mbeta\u001b[0m\u001b[0;34m)\u001b[0m\u001b[0;34m\u001b[0m\u001b[0;34m\u001b[0m\u001b[0m\n\u001b[1;32m    180\u001b[0m             \u001b[0mhistory\u001b[0m\u001b[0;34m[\u001b[0m\u001b[0;34m'mse'\u001b[0m\u001b[0;34m]\u001b[0m\u001b[0;34m.\u001b[0m\u001b[0mappend\u001b[0m\u001b[0;34m(\u001b[0m\u001b[0mnp\u001b[0m\u001b[0;34m.\u001b[0m\u001b[0mmean\u001b[0m\u001b[0;34m(\u001b[0m\u001b[0mresid\u001b[0m\u001b[0;34m*\u001b[0m\u001b[0mresid\u001b[0m\u001b[0;34m)\u001b[0m\u001b[0;34m)\u001b[0m\u001b[0;34m\u001b[0m\u001b[0;34m\u001b[0m\u001b[0m\n",
            "\u001b[0;31mValueError\u001b[0m: operands could not be broadcast together with shapes (12,) (11,) "
          ]
        }
      ]
    },
    {
      "cell_type": "code",
      "metadata": {
        "colab": {
          "base_uri": "https://localhost:8080/"
        },
        "id": "f2LgtrZH3KRh",
        "outputId": "8019f72c-7181-41a3-ef97-dcce4ab654c4"
      },
      "source": [
        "# We need to do PCA for feature reduction since the module doesn't seem to take more than 10 features\n",
        "\n",
        "from sklearn.decomposition import PCA\n",
        "\n",
        "y_train_quant = scaler.fit_transform(y_train_quant.values.reshape(-1,1))\n",
        "y_test_quant = scaler.fit_transform(y_test_quant.values.reshape(-1,1))\n",
        "\n",
        "pca = PCA(n_components=9)\n",
        "X_train_quant = pca.fit_transform(X_train_quant)\n",
        "X_test_quant = pca.transform(X_test_quant)\n",
        "\n",
        "explained_variance = pca.explained_variance_ratio_\n",
        "explained_variance \n",
        "\n",
        "# The components should explain at least 80% of the variance.\n",
        "# With 9 Principal Components, it's 83%"
      ],
      "execution_count": 108,
      "outputs": [
        {
          "output_type": "execute_result",
          "data": {
            "text/plain": [
              "array([0.29150254, 0.12196359, 0.10310209, 0.07576916, 0.06753303,\n",
              "       0.05552905, 0.04885449, 0.04645367, 0.03668292])"
            ]
          },
          "metadata": {
            "tags": []
          },
          "execution_count": 108
        }
      ]
    },
    {
      "cell_type": "code",
      "metadata": {
        "colab": {
          "base_uri": "https://localhost:8080/"
        },
        "id": "Zb3nBLCKGmSM",
        "outputId": "f1b57710-96d1-4cbe-8ff6-85a6d0319148"
      },
      "source": [
        "columns = ['PC1','PC2','PC3','PC4','PC5','PC6','PC7','PC8','PC9']\n",
        "\n",
        "principal_train = pd.DataFrame(X_train_quant, columns=columns)\n",
        "principal_test = pd.DataFrame(X_test_quant, columns=columns)\n",
        "\n",
        "principal_train['price'] = y_train_quant\n",
        "\n",
        "mod = smf.quantreg('price ~ PC1+PC2+PC3+PC4+PC5+PC6+PC7+PC8+PC9', principal_train)\n",
        "res = mod.fit(q=.5) \n",
        "print(res.summary())"
      ],
      "execution_count": 112,
      "outputs": [
        {
          "output_type": "stream",
          "text": [
            "                         QuantReg Regression Results                          \n",
            "==============================================================================\n",
            "Dep. Variable:                  price   Pseudo R-squared:               0.4513\n",
            "Model:                       QuantReg   Bandwidth:                     0.06149\n",
            "Method:                 Least Squares   Sparsity:                       0.7809\n",
            "Date:                Fri, 19 Feb 2021   No. Observations:                15129\n",
            "Time:                        12:04:00   Df Residuals:                    15119\n",
            "                                        Df Model:                            9\n",
            "==============================================================================\n",
            "                 coef    std err          t      P>|t|      [0.025      0.975]\n",
            "------------------------------------------------------------------------------\n",
            "Intercept     -0.0895      0.003    -28.209      0.000      -0.096      -0.083\n",
            "PC1            0.2067      0.001    149.157      0.000       0.204       0.209\n",
            "PC2            0.2264      0.002    105.669      0.000       0.222       0.231\n",
            "PC3            0.0154      0.002      6.591      0.000       0.011       0.020\n",
            "PC4            0.0861      0.003     31.662      0.000       0.081       0.091\n",
            "PC5            0.0430      0.003     14.921      0.000       0.037       0.049\n",
            "PC6           -0.0293      0.003     -9.220      0.000      -0.035      -0.023\n",
            "PC7           -0.2307      0.003    -68.152      0.000      -0.237      -0.224\n",
            "PC8           -0.0370      0.003    -10.662      0.000      -0.044      -0.030\n",
            "PC9           -0.0492      0.004    -12.597      0.000      -0.057      -0.042\n",
            "==============================================================================\n"
          ],
          "name": "stdout"
        }
      ]
    },
    {
      "cell_type": "code",
      "metadata": {
        "colab": {
          "base_uri": "https://localhost:8080/",
          "height": 351
        },
        "id": "7Qqu3YM4H8Y7",
        "outputId": "c0205434-2d54-4fa3-fc71-32b8dc8f64c1"
      },
      "source": [
        "# Evaluating the Model\n",
        "\n",
        "y_pred_quant = res.predict(principal_test)\n",
        "\n",
        "fig = plt.figure(figsize=(10, 5))\n",
        "plt.plot(np.arange(0,len(y_test_quant),1), y_test_quant, 'b.', markersize=10, label='Actual')\n",
        "plt.plot(np.arange(0,len(y_test_quant),1), y_pred_quant, 'r-', label='Prediction', alpha =0.8)\n",
        "plt.xlabel('Price')\n",
        "plt.ylabel('Observations')\n",
        "plt.legend(loc='upper right')\n",
        "\n",
        "# As can be seen, the higher price values are not being predicted accurately by the quantile(.5)"
      ],
      "execution_count": 132,
      "outputs": [
        {
          "output_type": "execute_result",
          "data": {
            "text/plain": [
              "<matplotlib.legend.Legend at 0x7ff1ab8abc50>"
            ]
          },
          "metadata": {
            "tags": []
          },
          "execution_count": 132
        },
        {
          "output_type": "display_data",
          "data": {
            "image/png": "[encoded data removed]",
            "text/plain": [
              "<Figure size 720x360 with 1 Axes>"
            ]
          },
          "metadata": {
            "tags": [],
            "needs_background": "light"
          }
        }
      ]
    },
    {
      "cell_type": "code",
      "metadata": {
        "colab": {
          "base_uri": "https://localhost:8080/",
          "height": 295
        },
        "id": "USVY36drMNxQ",
        "outputId": "7e32e6be-15d6-4bdb-d105-6113051099de"
      },
      "source": [
        "test_plot = pd.DataFrame({'y_test':y_test_quant.ravel(),'y_pred': y_pred_quant})\n",
        "test_plot.sort_values(by=['y_test'],inplace=True)\n",
        "plt.plot(np.arange(0,len(test_plot),1), test_plot['y_pred'])\n",
        "plt.plot(np.arange(0,len(test_plot),1), test_plot['y_test'], alpha=0.5)\n",
        "plt.ylabel('Yellow = y_test,  Blue = y_pred')\n",
        "plt.xlabel('Index')\n",
        "plt.title('Predicted vs. Real');\n",
        "\n",
        "\n",
        "# Below are the Observations sorted by y_test values, i.e., the higher the index,\n",
        "# the higher the Price\n",
        "\n",
        "# We can see that as the price gets beyond 6000, the prediction becomes quite inaccurate."
      ],
      "execution_count": 133,
      "outputs": [
        {
          "output_type": "display_data",
          "data": {
            "image/png": "[encoded data removed]",
            "text/plain": [
              "<Figure size 432x288 with 1 Axes>"
            ]
          },
          "metadata": {
            "tags": [],
            "needs_background": "light"
          }
        }
      ]
    },
    {
      "cell_type": "code",
      "metadata": {
        "colab": {
          "base_uri": "https://localhost:8080/",
          "height": 298
        },
        "id": "m7sxo6_PNCAk",
        "outputId": "81012bc5-0cdb-4e68-a11c-75786efcc35f"
      },
      "source": [
        "plt.scatter(y_test_quant.ravel(), y_pred_quant)\n",
        "plt.plot(y_test_quant.ravel(), y_test_quant.ravel(), \"r\")\n",
        "plt.xlabel('y_actual')\n",
        "plt.ylabel('y_predicted')\n",
        "\n",
        "# The heteroskedasticity in the model can be seen below as the values veer off the red\n",
        "# line that represents the predicted values."
      ],
      "execution_count": 121,
      "outputs": [
        {
          "output_type": "execute_result",
          "data": {
            "text/plain": [
              "Text(0, 0.5, 'y_predicted')"
            ]
          },
          "metadata": {
            "tags": []
          },
          "execution_count": 121
        },
        {
          "output_type": "display_data",
          "data": {
            "image/png": "[encoded data removed]",
            "text/plain": [
              "<Figure size 432x288 with 1 Axes>"
            ]
          },
          "metadata": {
            "tags": [],
            "needs_background": "light"
          }
        }
      ]
    },
    {
      "cell_type": "code",
      "metadata": {
        "colab": {
          "base_uri": "https://localhost:8080/"
        },
        "id": "p5a4xhkGPKO0",
        "outputId": "92870683-6923-488d-a80b-c510855f08d1"
      },
      "source": [
        "# Evaluating the Algorithm\n",
        "\n",
        "mae_quant = metrics.mean_absolute_error(y_test_quant, y_pred_quant)\n",
        "mse_quant = metrics.mean_squared_error(y_test_quant, y_pred_quant)\n",
        "rmse_quant = np.sqrt(metrics.mean_squared_error(y_test_quant, y_pred_quant))\n",
        "\n",
        "ratio_quant = (rmse_quant / house.price.mean()) * 100\n",
        "r2_score_quant = r2_score(y_test_quant, y_pred_quant)\n",
        "\n",
        "print('Mean Absolute Error:', mae_quant)\n",
        "print('Mean Squared Error:', mse_quant)\n",
        "print('Root Mean Squared Error:', rmse_quant)\n",
        "print('Percentage of RMSE to mean is: ' +str(ratio_quant) + ' %')\n",
        "print('R score:', r2_score_quant)\n",
        "\n",
        "# The RMSE is the best by far, however, the R-score is lower than our lasso model.\n",
        "# To improve the prediction's R-score, the data could be grouped into quantiles 0.1 - 0.9"
      ],
      "execution_count": 122,
      "outputs": [
        {
          "output_type": "stream",
          "text": [
            "Mean Absolute Error: 0.32790704012204475\n",
            "Mean Squared Error: 0.37975280325959554\n",
            "Root Mean Squared Error: 0.6162408646459561\n",
            "Percentage of RMSE to mean is: 0.0001140801958403329 %\n",
            "R score: 0.6202471967404046\n"
          ],
          "name": "stdout"
        }
      ]
    },
    {
      "cell_type": "markdown",
      "metadata": {
        "id": "rSIqZbrpdwhG"
      },
      "source": [
        "# RECOMMENDATION"
      ]
    },
    {
      "cell_type": "markdown",
      "metadata": {
        "id": "Gpc0M4EsdzlG"
      },
      "source": [
        "The Lasso Model provided the best R score of 0.71, however, the Quantile Regression provided the best RMSE score of 0.00011%. This means that the Lasso model has the most variance explained by the model and Quantile has the most accurate results. However, from our plots it can be seen that this accuracy is only true for lower value houses as the most expensive ones are not accurately predicted. To determine if this accuracy score is good a suggestion could be using Root Mean Square Logarithmic Error due to the transformations we did and see if the score is any different. Another suggestion is to improve the prediction's R-score, by grouping the data into quantiles 0.1 - 0.9 and carrying out the prediction based on the quantile which the data falls in.\n",
        "\n",
        "---"
      ]
    },
    {
      "cell_type": "markdown",
      "metadata": {
        "id": "UfGEUSFZfeFK"
      },
      "source": [
        "# FOLLOW UP QUESTIONS"
      ]
    },
    {
      "cell_type": "markdown",
      "metadata": {
        "id": "LESIqX4Zfoch"
      },
      "source": [
        "## a.) Did we have the right data?\n",
        "\n",
        "Yes we did as most of our R-scores were higher than the recommended minimum of 0.60\n"
      ]
    },
    {
      "cell_type": "markdown",
      "metadata": {
        "id": "az9k9DNqhZCz"
      },
      "source": [
        "## b.) Do we need other data to answer our question?\n",
        "\n",
        "Yes we do, our best model describes 71% of the variance in the data, meaning there's 29% not captured in the data. There's room to improve this by gathering more data that could describe some of this 29% variance that we have not captured in the model.\n"
      ]
    },
    {
      "cell_type": "markdown",
      "metadata": {
        "id": "AuVS-Zt4h-la"
      },
      "source": [
        "## c.) Did we have the right question?\n",
        "\n",
        "Yes we did. Home prices are important since buying a home is the most expensive single purchase that most people make in their life, and home ownership is one of the top goals of people, especially families."
      ]
    }
  ]
}